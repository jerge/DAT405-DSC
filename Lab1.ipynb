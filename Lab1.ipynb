{
  "nbformat": 4,
  "nbformat_minor": 0,
  "metadata": {
    "colab": {
      "name": "Lab1q2.ipynb",
      "provenance": [],
      "collapsed_sections": [],
      "include_colab_link": true
    },
    "kernelspec": {
      "display_name": "Python 3",
      "language": "python",
      "name": "python3"
    },
    "language_info": {
      "codemirror_mode": {
        "name": "ipython",
        "version": 3
      },
      "file_extension": ".py",
      "mimetype": "text/x-python",
      "name": "python",
      "nbconvert_exporter": "python",
      "pygments_lexer": "ipython3",
      "version": "3.8.3"
    }
  },
  "cells": [
    {
      "cell_type": "markdown",
      "metadata": {
        "id": "view-in-github",
        "colab_type": "text"
      },
      "source": [
        "<a href=\"https://colab.research.google.com/github/jerge/DAT405-DSC/blob/main/Lab1.ipynb\" target=\"_parent\"><img src=\"https://colab.research.google.com/assets/colab-badge.svg\" alt=\"Open In Colab\"/></a>"
      ]
    },
    {
      "cell_type": "code",
      "metadata": {
        "id": "Yz5Y3Tu_1wrL",
        "outputId": "37388270-92ea-4fa0-c190-7e99ea945962",
        "colab": {
          "base_uri": "https://localhost:8080/"
        }
      },
      "source": [
        "from google.colab import drive\n",
        "drive.mount('/content/drive')"
      ],
      "execution_count": 2,
      "outputs": [
        {
          "output_type": "stream",
          "text": [
            "Drive already mounted at /content/drive; to attempt to forcibly remount, call drive.mount(\"/content/drive\", force_remount=True).\n"
          ],
          "name": "stdout"
        }
      ]
    },
    {
      "cell_type": "markdown",
      "metadata": {
        "id": "vTJ9uJ4HfXdg"
      },
      "source": [
        "# Download Some Data Related to GDP per capita and life expectancy\n"
      ]
    },
    {
      "cell_type": "markdown",
      "metadata": {
        "id": "zkQqQJqNg5Nj"
      },
      "source": [
        "### Write a Python program that draws a scatter plot of GDP per capita vs life expectancy. State any assumptions and motivate decisions that you make when selecting data to be plotted, and in combining data. [1p]"
      ]
    },
    {
      "cell_type": "markdown",
      "metadata": {
        "id": "iDfaRH8VyhKQ"
      },
      "source": [
        "We decided that we only wanted to use data from one year, since subsequent years would be similar and we did not want to clutter the plot. Furthermore we assumed that each country would have a similar GDP / Life expectancy ratio and thus it would be sufficient to plot only one point per country to see a trend (since we had many countries data). \n",
        "\n",
        "Plotting the same country multiple times could make it hard to compare them to each other, which seemed to be useful in order to answer the later questions.\n",
        "\n",
        "We chose 2015, since we had the most data from that year."
      ]
    },
    {
      "cell_type": "code",
      "metadata": {
        "id": "6wvM9BKi_7y-",
        "outputId": "8e373862-62ed-4c63-95da-cbdb9be6b87b",
        "colab": {
          "base_uri": "https://localhost:8080/",
          "height": 717
        }
      },
      "source": [
        "import matplotlib.pyplot as plt\n",
        "import pandas as pd\n",
        "import matplotlib.pyplot as plt\n",
        "\n",
        "GdpPerCap = pd.read_csv(\"/content/drive/My Drive/DAT405/gdp-per-capita-worldbank.csv\")\n",
        "LifeExpect = pd.read_csv(\"/content/drive/My Drive/DAT405/life-expectancy.csv\")\n",
        "NatGdp = pd.read_csv(\"/content/drive/My Drive/DAT405/national-gdp.csv\")\n",
        "\n",
        "# Data merging & cleaning\n",
        "countries = NatGdp.merge(GdpPerCap).merge(LifeExpect)\n",
        "countries = countries[countries.Year == 2015]\n",
        "\n",
        "countries = countries.set_index(\"Code\")\n",
        "countries.columns= [\"country\",\"year\",\"gdp\",\"gdp_capita\", \"life_exp\"]\n",
        "\n",
        "countries.plot.scatter(x=\"gdp_capita\",y=\"life_exp\",logx=True, alpha=0.7)\n",
        "\n",
        "countries"
      ],
      "execution_count": 3,
      "outputs": [
        {
          "output_type": "execute_result",
          "data": {
            "text/html": [
              "<div>\n",
              "<style scoped>\n",
              "    .dataframe tbody tr th:only-of-type {\n",
              "        vertical-align: middle;\n",
              "    }\n",
              "\n",
              "    .dataframe tbody tr th {\n",
              "        vertical-align: top;\n",
              "    }\n",
              "\n",
              "    .dataframe thead th {\n",
              "        text-align: right;\n",
              "    }\n",
              "</style>\n",
              "<table border=\"1\" class=\"dataframe\">\n",
              "  <thead>\n",
              "    <tr style=\"text-align: right;\">\n",
              "      <th></th>\n",
              "      <th>country</th>\n",
              "      <th>year</th>\n",
              "      <th>gdp</th>\n",
              "      <th>gdp_capita</th>\n",
              "      <th>life_exp</th>\n",
              "    </tr>\n",
              "    <tr>\n",
              "      <th>Code</th>\n",
              "      <th></th>\n",
              "      <th></th>\n",
              "      <th></th>\n",
              "      <th></th>\n",
              "      <th></th>\n",
              "    </tr>\n",
              "  </thead>\n",
              "  <tbody>\n",
              "    <tr>\n",
              "      <th>ALB</th>\n",
              "      <td>Albania</td>\n",
              "      <td>2015</td>\n",
              "      <td>32826175488</td>\n",
              "      <td>10970.452245</td>\n",
              "      <td>78.025</td>\n",
              "    </tr>\n",
              "    <tr>\n",
              "      <th>DZA</th>\n",
              "      <td>Algeria</td>\n",
              "      <td>2015</td>\n",
              "      <td>481546174464</td>\n",
              "      <td>13724.723853</td>\n",
              "      <td>76.090</td>\n",
              "    </tr>\n",
              "    <tr>\n",
              "      <th>AGO</th>\n",
              "      <td>Angola</td>\n",
              "      <td>2015</td>\n",
              "      <td>154071351296</td>\n",
              "      <td>6227.664689</td>\n",
              "      <td>59.398</td>\n",
              "    </tr>\n",
              "    <tr>\n",
              "      <th>ATG</th>\n",
              "      <td>Antigua and Barbuda</td>\n",
              "      <td>2015</td>\n",
              "      <td>943836736</td>\n",
              "      <td>20154.947488</td>\n",
              "      <td>76.483</td>\n",
              "    </tr>\n",
              "    <tr>\n",
              "      <th>ARG</th>\n",
              "      <td>Argentina</td>\n",
              "      <td>2015</td>\n",
              "      <td>712662646784</td>\n",
              "      <td>19116.907915</td>\n",
              "      <td>76.068</td>\n",
              "    </tr>\n",
              "    <tr>\n",
              "      <th>...</th>\n",
              "      <td>...</td>\n",
              "      <td>...</td>\n",
              "      <td>...</td>\n",
              "      <td>...</td>\n",
              "      <td>...</td>\n",
              "    </tr>\n",
              "    <tr>\n",
              "      <th>UZB</th>\n",
              "      <td>Uzbekistan</td>\n",
              "      <td>2015</td>\n",
              "      <td>283167719424</td>\n",
              "      <td>5700.236028</td>\n",
              "      <td>70.928</td>\n",
              "    </tr>\n",
              "    <tr>\n",
              "      <th>VNM</th>\n",
              "      <td>Vietnam</td>\n",
              "      <td>2015</td>\n",
              "      <td>511142723584</td>\n",
              "      <td>5554.858056</td>\n",
              "      <td>75.110</td>\n",
              "    </tr>\n",
              "    <tr>\n",
              "      <th>YEM</th>\n",
              "      <td>Yemen</td>\n",
              "      <td>2015</td>\n",
              "      <td>67136618496</td>\n",
              "      <td>2308.636584</td>\n",
              "      <td>66.085</td>\n",
              "    </tr>\n",
              "    <tr>\n",
              "      <th>ZMB</th>\n",
              "      <td>Zambia</td>\n",
              "      <td>2015</td>\n",
              "      <td>58147405824</td>\n",
              "      <td>3627.202041</td>\n",
              "      <td>61.737</td>\n",
              "    </tr>\n",
              "    <tr>\n",
              "      <th>ZWE</th>\n",
              "      <td>Zimbabwe</td>\n",
              "      <td>2015</td>\n",
              "      <td>29150750720</td>\n",
              "      <td>1912.280261</td>\n",
              "      <td>59.534</td>\n",
              "    </tr>\n",
              "  </tbody>\n",
              "</table>\n",
              "<p>169 rows × 5 columns</p>\n",
              "</div>"
            ],
            "text/plain": [
              "                  country  year           gdp    gdp_capita  life_exp\n",
              "Code                                                                 \n",
              "ALB               Albania  2015   32826175488  10970.452245    78.025\n",
              "DZA               Algeria  2015  481546174464  13724.723853    76.090\n",
              "AGO                Angola  2015  154071351296   6227.664689    59.398\n",
              "ATG   Antigua and Barbuda  2015     943836736  20154.947488    76.483\n",
              "ARG             Argentina  2015  712662646784  19116.907915    76.068\n",
              "...                   ...   ...           ...           ...       ...\n",
              "UZB            Uzbekistan  2015  283167719424   5700.236028    70.928\n",
              "VNM               Vietnam  2015  511142723584   5554.858056    75.110\n",
              "YEM                 Yemen  2015   67136618496   2308.636584    66.085\n",
              "ZMB                Zambia  2015   58147405824   3627.202041    61.737\n",
              "ZWE              Zimbabwe  2015   29150750720   1912.280261    59.534\n",
              "\n",
              "[169 rows x 5 columns]"
            ]
          },
          "metadata": {
            "tags": []
          },
          "execution_count": 3
        },
        {
          "output_type": "display_data",
          "data": {
            "image/png": "[encoded data removed]",
            "text/plain": [
              "<Figure size 432x288 with 1 Axes>"
            ]
          },
          "metadata": {
            "tags": [],
            "needs_background": "light"
          }
        }
      ]
    },
    {
      "cell_type": "markdown",
      "metadata": {
        "id": "fV7qG5HGhIAV"
      },
      "source": [
        "### Consider whether the results obtained seem reasonable and discuss what might be the explanation for the results you obtained. [1p]\n"
      ]
    },
    {
      "cell_type": "markdown",
      "metadata": {
        "id": "Pq2gojJshLGs"
      },
      "source": [
        "The trend seems to be a logarithmic curve with a few outliers. In a richer country the life expectancy increases, which makes sense. If we assume a richer country has a higher GDP per Capita the people in that country should be able to afford all their basic needs and as such avoid starvation and health deficits related to bad food, water and hygien. Further wealth contributes to health care and medicine, but after a certain point there is a diminishing return on how much wealth impacts the life expectancy.\n",
        "\n",
        "Almost all outliers are a result of the country being pretty poor and then finding oil, resulting in a huge boost in the economy, which has not had the time needed to positively affect the public health. Furthermore the wealth is probably not distributed properly, since the people owning oil is probably just a small percentage of the population."
      ]
    },
    {
      "cell_type": "markdown",
      "metadata": {
        "id": "WzAZvJAChOWF"
      },
      "source": [
        "### Data Cleaning and Why?\n",
        "* Data from 2015\n",
        "Se 1.a\n",
        "* Länder som inte har data punkter för alla columner\n",
        "To make a fair comparison between all the questions in #1 we figured it would require that we compared the same countries every time.\n",
        "* Medelvärdes entries, ex. World fanns med\n",
        "In our data there where also some points which contained averages, such as the \"World\" or \"Africa\", while these probably would have followed the trend, we decided that would not contribute properly and as such they where removed. (When we merged the plots on \"Code\")"
      ]
    },
    {
      "cell_type": "markdown",
      "metadata": {
        "id": "INCfuzCADSrY"
      },
      "source": [
        "###Which countries have a life expectancy higher than one standard deviation above the mean?\n"
      ]
    },
    {
      "cell_type": "code",
      "metadata": {
        "id": "zAYO0E048ivK",
        "outputId": "1332b2c7-03ab-4f16-c414-703f0de4117e",
        "colab": {
          "base_uri": "https://localhost:8080/",
          "height": 1000
        }
      },
      "source": [
        "#d\n",
        "stdevs = countries.std(axis = 0)\n",
        "means = countries.mean(axis = 0)\n",
        "highLifeExp = countries[countries.life_exp > stdevs.life_exp + means.life_exp]\n",
        "lowLifeExp = countries[countries.life_exp <= stdevs.life_exp + means.life_exp]\n",
        "\n",
        "fig, ax = plt.subplots()\n",
        "highLifeExp.plot.scatter(x=\"gdp\",y=\"life_exp\", alpha=0.7,logx=True, ax=ax, color='g')\n",
        "lowLifeExp.plot.scatter(x=\"gdp\",y=\"life_exp\",alpha=0.7,logx=True, ax=ax, color='r')\n",
        "\n",
        "highLifeExp"
      ],
      "execution_count": 4,
      "outputs": [
        {
          "output_type": "execute_result",
          "data": {
            "text/html": [
              "<div>\n",
              "<style scoped>\n",
              "    .dataframe tbody tr th:only-of-type {\n",
              "        vertical-align: middle;\n",
              "    }\n",
              "\n",
              "    .dataframe tbody tr th {\n",
              "        vertical-align: top;\n",
              "    }\n",
              "\n",
              "    .dataframe thead th {\n",
              "        text-align: right;\n",
              "    }\n",
              "</style>\n",
              "<table border=\"1\" class=\"dataframe\">\n",
              "  <thead>\n",
              "    <tr style=\"text-align: right;\">\n",
              "      <th></th>\n",
              "      <th>country</th>\n",
              "      <th>year</th>\n",
              "      <th>gdp</th>\n",
              "      <th>gdp_capita</th>\n",
              "      <th>life_exp</th>\n",
              "    </tr>\n",
              "    <tr>\n",
              "      <th>Code</th>\n",
              "      <th></th>\n",
              "      <th></th>\n",
              "      <th></th>\n",
              "      <th></th>\n",
              "      <th></th>\n",
              "    </tr>\n",
              "  </thead>\n",
              "  <tbody>\n",
              "    <tr>\n",
              "      <th>AUS</th>\n",
              "      <td>Australia</td>\n",
              "      <td>2015</td>\n",
              "      <td>1066969268224</td>\n",
              "      <td>43923.258269</td>\n",
              "      <td>82.794</td>\n",
              "    </tr>\n",
              "    <tr>\n",
              "      <th>AUT</th>\n",
              "      <td>Austria</td>\n",
              "      <td>2015</td>\n",
              "      <td>387296296960</td>\n",
              "      <td>44304.967757</td>\n",
              "      <td>81.182</td>\n",
              "    </tr>\n",
              "    <tr>\n",
              "      <th>BEL</th>\n",
              "      <td>Belgium</td>\n",
              "      <td>2015</td>\n",
              "      <td>417381416960</td>\n",
              "      <td>41708.212340</td>\n",
              "      <td>80.969</td>\n",
              "    </tr>\n",
              "    <tr>\n",
              "      <th>CAN</th>\n",
              "      <td>Canada</td>\n",
              "      <td>2015</td>\n",
              "      <td>1518240006144</td>\n",
              "      <td>43149.475837</td>\n",
              "      <td>82.026</td>\n",
              "    </tr>\n",
              "    <tr>\n",
              "      <th>CYP</th>\n",
              "      <td>Cyprus</td>\n",
              "      <td>2015</td>\n",
              "      <td>23035398144</td>\n",
              "      <td>30549.100970</td>\n",
              "      <td>80.350</td>\n",
              "    </tr>\n",
              "    <tr>\n",
              "      <th>DNK</th>\n",
              "      <td>Denmark</td>\n",
              "      <td>2015</td>\n",
              "      <td>243726254080</td>\n",
              "      <td>45458.697149</td>\n",
              "      <td>80.475</td>\n",
              "    </tr>\n",
              "    <tr>\n",
              "      <th>FIN</th>\n",
              "      <td>Finland</td>\n",
              "      <td>2015</td>\n",
              "      <td>206622720000</td>\n",
              "      <td>38941.763603</td>\n",
              "      <td>81.196</td>\n",
              "    </tr>\n",
              "    <tr>\n",
              "      <th>FRA</th>\n",
              "      <td>France</td>\n",
              "      <td>2015</td>\n",
              "      <td>2520561483776</td>\n",
              "      <td>37766.374112</td>\n",
              "      <td>82.224</td>\n",
              "    </tr>\n",
              "    <tr>\n",
              "      <th>DEU</th>\n",
              "      <td>Germany</td>\n",
              "      <td>2015</td>\n",
              "      <td>3634567053312</td>\n",
              "      <td>43937.947132</td>\n",
              "      <td>80.770</td>\n",
              "    </tr>\n",
              "    <tr>\n",
              "      <th>GRC</th>\n",
              "      <td>Greece</td>\n",
              "      <td>2015</td>\n",
              "      <td>260095885312</td>\n",
              "      <td>24170.301837</td>\n",
              "      <td>81.548</td>\n",
              "    </tr>\n",
              "    <tr>\n",
              "      <th>HKG</th>\n",
              "      <td>Hong Kong</td>\n",
              "      <td>2015</td>\n",
              "      <td>288184369152</td>\n",
              "      <td>53591.835820</td>\n",
              "      <td>84.043</td>\n",
              "    </tr>\n",
              "    <tr>\n",
              "      <th>ISL</th>\n",
              "      <td>Iceland</td>\n",
              "      <td>2015</td>\n",
              "      <td>13045315584</td>\n",
              "      <td>43048.125145</td>\n",
              "      <td>82.481</td>\n",
              "    </tr>\n",
              "    <tr>\n",
              "      <th>IRL</th>\n",
              "      <td>Ireland</td>\n",
              "      <td>2015</td>\n",
              "      <td>317222780928</td>\n",
              "      <td>60818.046240</td>\n",
              "      <td>81.344</td>\n",
              "    </tr>\n",
              "    <tr>\n",
              "      <th>ISR</th>\n",
              "      <td>Israel</td>\n",
              "      <td>2015</td>\n",
              "      <td>281055756288</td>\n",
              "      <td>32024.352771</td>\n",
              "      <td>82.340</td>\n",
              "    </tr>\n",
              "    <tr>\n",
              "      <th>ITA</th>\n",
              "      <td>Italy</td>\n",
              "      <td>2015</td>\n",
              "      <td>2093730365440</td>\n",
              "      <td>34302.037403</td>\n",
              "      <td>82.828</td>\n",
              "    </tr>\n",
              "    <tr>\n",
              "      <th>JPN</th>\n",
              "      <td>Japan</td>\n",
              "      <td>2015</td>\n",
              "      <td>4975034892288</td>\n",
              "      <td>37882.980624</td>\n",
              "      <td>83.879</td>\n",
              "    </tr>\n",
              "    <tr>\n",
              "      <th>LUX</th>\n",
              "      <td>Luxembourg</td>\n",
              "      <td>2015</td>\n",
              "      <td>39506448384</td>\n",
              "      <td>94088.592225</td>\n",
              "      <td>81.636</td>\n",
              "    </tr>\n",
              "    <tr>\n",
              "      <th>MAC</th>\n",
              "      <td>Macao</td>\n",
              "      <td>2015</td>\n",
              "      <td>52461273088</td>\n",
              "      <td>100444.593628</td>\n",
              "      <td>83.707</td>\n",
              "    </tr>\n",
              "    <tr>\n",
              "      <th>MLT</th>\n",
              "      <td>Malta</td>\n",
              "      <td>2015</td>\n",
              "      <td>11749704704</td>\n",
              "      <td>34087.081514</td>\n",
              "      <td>81.896</td>\n",
              "    </tr>\n",
              "    <tr>\n",
              "      <th>NLD</th>\n",
              "      <td>Netherlands</td>\n",
              "      <td>2015</td>\n",
              "      <td>763265220608</td>\n",
              "      <td>46494.364258</td>\n",
              "      <td>81.715</td>\n",
              "    </tr>\n",
              "    <tr>\n",
              "      <th>NZL</th>\n",
              "      <td>New Zealand</td>\n",
              "      <td>2015</td>\n",
              "      <td>160641253376</td>\n",
              "      <td>35309.823724</td>\n",
              "      <td>81.713</td>\n",
              "    </tr>\n",
              "    <tr>\n",
              "      <th>NOR</th>\n",
              "      <td>Norway</td>\n",
              "      <td>2015</td>\n",
              "      <td>326766886912</td>\n",
              "      <td>64008.286830</td>\n",
              "      <td>81.912</td>\n",
              "    </tr>\n",
              "    <tr>\n",
              "      <th>PRT</th>\n",
              "      <td>Portugal</td>\n",
              "      <td>2015</td>\n",
              "      <td>275554271232</td>\n",
              "      <td>26607.833123</td>\n",
              "      <td>81.224</td>\n",
              "    </tr>\n",
              "    <tr>\n",
              "      <th>SGP</th>\n",
              "      <td>Singapore</td>\n",
              "      <td>2015</td>\n",
              "      <td>361788833792</td>\n",
              "      <td>81741.096936</td>\n",
              "      <td>82.877</td>\n",
              "    </tr>\n",
              "    <tr>\n",
              "      <th>SVN</th>\n",
              "      <td>Slovenia</td>\n",
              "      <td>2015</td>\n",
              "      <td>53819801600</td>\n",
              "      <td>29037.741676</td>\n",
              "      <td>80.673</td>\n",
              "    </tr>\n",
              "    <tr>\n",
              "      <th>KOR</th>\n",
              "      <td>South Korea</td>\n",
              "      <td>2015</td>\n",
              "      <td>1740982190080</td>\n",
              "      <td>34177.654470</td>\n",
              "      <td>82.100</td>\n",
              "    </tr>\n",
              "    <tr>\n",
              "      <th>ESP</th>\n",
              "      <td>Spain</td>\n",
              "      <td>2015</td>\n",
              "      <td>1525531410432</td>\n",
              "      <td>32291.155199</td>\n",
              "      <td>82.981</td>\n",
              "    </tr>\n",
              "    <tr>\n",
              "      <th>SWE</th>\n",
              "      <td>Sweden</td>\n",
              "      <td>2015</td>\n",
              "      <td>411178139648</td>\n",
              "      <td>45679.277997</td>\n",
              "      <td>82.251</td>\n",
              "    </tr>\n",
              "    <tr>\n",
              "      <th>CHE</th>\n",
              "      <td>Switzerland</td>\n",
              "      <td>2015</td>\n",
              "      <td>522778181632</td>\n",
              "      <td>57264.157397</td>\n",
              "      <td>83.142</td>\n",
              "    </tr>\n",
              "    <tr>\n",
              "      <th>GBR</th>\n",
              "      <td>United Kingdom</td>\n",
              "      <td>2015</td>\n",
              "      <td>2496360611840</td>\n",
              "      <td>38839.166957</td>\n",
              "      <td>81.052</td>\n",
              "    </tr>\n",
              "  </tbody>\n",
              "</table>\n",
              "</div>"
            ],
            "text/plain": [
              "             country  year            gdp     gdp_capita  life_exp\n",
              "Code                                                              \n",
              "AUS        Australia  2015  1066969268224   43923.258269    82.794\n",
              "AUT          Austria  2015   387296296960   44304.967757    81.182\n",
              "BEL          Belgium  2015   417381416960   41708.212340    80.969\n",
              "CAN           Canada  2015  1518240006144   43149.475837    82.026\n",
              "CYP           Cyprus  2015    23035398144   30549.100970    80.350\n",
              "DNK          Denmark  2015   243726254080   45458.697149    80.475\n",
              "FIN          Finland  2015   206622720000   38941.763603    81.196\n",
              "FRA           France  2015  2520561483776   37766.374112    82.224\n",
              "DEU          Germany  2015  3634567053312   43937.947132    80.770\n",
              "GRC           Greece  2015   260095885312   24170.301837    81.548\n",
              "HKG        Hong Kong  2015   288184369152   53591.835820    84.043\n",
              "ISL          Iceland  2015    13045315584   43048.125145    82.481\n",
              "IRL          Ireland  2015   317222780928   60818.046240    81.344\n",
              "ISR           Israel  2015   281055756288   32024.352771    82.340\n",
              "ITA            Italy  2015  2093730365440   34302.037403    82.828\n",
              "JPN            Japan  2015  4975034892288   37882.980624    83.879\n",
              "LUX       Luxembourg  2015    39506448384   94088.592225    81.636\n",
              "MAC            Macao  2015    52461273088  100444.593628    83.707\n",
              "MLT            Malta  2015    11749704704   34087.081514    81.896\n",
              "NLD      Netherlands  2015   763265220608   46494.364258    81.715\n",
              "NZL      New Zealand  2015   160641253376   35309.823724    81.713\n",
              "NOR           Norway  2015   326766886912   64008.286830    81.912\n",
              "PRT         Portugal  2015   275554271232   26607.833123    81.224\n",
              "SGP        Singapore  2015   361788833792   81741.096936    82.877\n",
              "SVN         Slovenia  2015    53819801600   29037.741676    80.673\n",
              "KOR      South Korea  2015  1740982190080   34177.654470    82.100\n",
              "ESP            Spain  2015  1525531410432   32291.155199    82.981\n",
              "SWE           Sweden  2015   411178139648   45679.277997    82.251\n",
              "CHE      Switzerland  2015   522778181632   57264.157397    83.142\n",
              "GBR   United Kingdom  2015  2496360611840   38839.166957    81.052"
            ]
          },
          "metadata": {
            "tags": []
          },
          "execution_count": 4
        },
        {
          "output_type": "display_data",
          "data": {
            "image/png": "[encoded data removed]",
            "text/plain": [
              "<Figure size 432x288 with 1 Axes>"
            ]
          },
          "metadata": {
            "tags": [],
            "needs_background": "light"
          }
        }
      ]
    },
    {
      "cell_type": "markdown",
      "metadata": {
        "id": "Z8ioFoVGDlNY"
      },
      "source": [
        "See the green points in the plot or the list for all countries that have a life expectancy higher than one standard deviation above the mean (~80.05)"
      ]
    },
    {
      "cell_type": "markdown",
      "metadata": {
        "id": "hTu4xOO9EAHx"
      },
      "source": [
        "### Which countries have high life expectancy but have low GDP?"
      ]
    },
    {
      "cell_type": "code",
      "metadata": {
        "id": "nApXUfKR_7zE",
        "outputId": "d4777e8e-2cc3-4e50-9d24-2600e4e950a7",
        "colab": {
          "base_uri": "https://localhost:8080/",
          "height": 470
        }
      },
      "source": [
        "#e\n",
        "fig, ax = plt.subplots()\n",
        "highLifeExp = countries[countries.life_exp > countries.life_exp.quantile(0.75)]\n",
        "lowLifeExp = countries[countries.life_exp <= countries.life_exp.quantile(0.75)]\n",
        "\n",
        "highLifeExpLowGDP = highLifeExp[highLifeExp.gdp < countries.gdp.quantile(0.25)]\n",
        "highLifeExpLowGDP #Finns inga länder som har GDP under mean och hög life exp\n",
        "\n",
        "highLifeExp.plot.scatter(x=\"gdp\",y=\"life_exp\", alpha=0.7, logx=True,ax=ax, color='g')\n",
        "lowLifeExp.plot.scatter(x=\"gdp\",y=\"life_exp\",alpha=0.7, logx=True,ax=ax, color='r')\n",
        "highLifeExpLowGDP.plot.scatter(x=\"gdp\",y=\"life_exp\",alpha=0.7, logx=True,ax=ax, color='b')\n",
        "\n",
        "highLifeExpLowGDP"
      ],
      "execution_count": 5,
      "outputs": [
        {
          "output_type": "execute_result",
          "data": {
            "text/html": [
              "<div>\n",
              "<style scoped>\n",
              "    .dataframe tbody tr th:only-of-type {\n",
              "        vertical-align: middle;\n",
              "    }\n",
              "\n",
              "    .dataframe tbody tr th {\n",
              "        vertical-align: top;\n",
              "    }\n",
              "\n",
              "    .dataframe thead th {\n",
              "        text-align: right;\n",
              "    }\n",
              "</style>\n",
              "<table border=\"1\" class=\"dataframe\">\n",
              "  <thead>\n",
              "    <tr style=\"text-align: right;\">\n",
              "      <th></th>\n",
              "      <th>country</th>\n",
              "      <th>year</th>\n",
              "      <th>gdp</th>\n",
              "      <th>gdp_capita</th>\n",
              "      <th>life_exp</th>\n",
              "    </tr>\n",
              "    <tr>\n",
              "      <th>Code</th>\n",
              "      <th></th>\n",
              "      <th></th>\n",
              "      <th></th>\n",
              "      <th></th>\n",
              "      <th></th>\n",
              "    </tr>\n",
              "  </thead>\n",
              "  <tbody>\n",
              "    <tr>\n",
              "      <th>BRB</th>\n",
              "      <td>Barbados</td>\n",
              "      <td>2015</td>\n",
              "      <td>2807180544</td>\n",
              "      <td>16458.103529</td>\n",
              "      <td>78.801</td>\n",
              "    </tr>\n",
              "    <tr>\n",
              "      <th>CYP</th>\n",
              "      <td>Cyprus</td>\n",
              "      <td>2015</td>\n",
              "      <td>23035398144</td>\n",
              "      <td>30549.100970</td>\n",
              "      <td>80.350</td>\n",
              "    </tr>\n",
              "    <tr>\n",
              "      <th>ISL</th>\n",
              "      <td>Iceland</td>\n",
              "      <td>2015</td>\n",
              "      <td>13045315584</td>\n",
              "      <td>43048.125145</td>\n",
              "      <td>82.481</td>\n",
              "    </tr>\n",
              "    <tr>\n",
              "      <th>MLT</th>\n",
              "      <td>Malta</td>\n",
              "      <td>2015</td>\n",
              "      <td>11749704704</td>\n",
              "      <td>34087.081514</td>\n",
              "      <td>81.896</td>\n",
              "    </tr>\n",
              "  </tbody>\n",
              "</table>\n",
              "</div>"
            ],
            "text/plain": [
              "       country  year          gdp    gdp_capita  life_exp\n",
              "Code                                                     \n",
              "BRB   Barbados  2015   2807180544  16458.103529    78.801\n",
              "CYP     Cyprus  2015  23035398144  30549.100970    80.350\n",
              "ISL    Iceland  2015  13045315584  43048.125145    82.481\n",
              "MLT      Malta  2015  11749704704  34087.081514    81.896"
            ]
          },
          "metadata": {
            "tags": []
          },
          "execution_count": 5
        },
        {
          "output_type": "display_data",
          "data": {
            "image/png": "[encoded data removed]",
            "text/plain": [
              "<Figure size 432x288 with 1 Axes>"
            ]
          },
          "metadata": {
            "tags": [],
            "needs_background": "light"
          }
        }
      ]
    },
    {
      "cell_type": "markdown",
      "metadata": {
        "id": "vYBpssenEIrN"
      },
      "source": [
        "In our data there is a lot of deviation in the GDP's. Therefore the standard deviation of the country is higher than the mean and as such it does not make sense to indicate low GDP by \"X standard deviation below the mean\" since just a single step above the mean would remove all countries from the plot. This could perhaps be solved by removing the oil countries and other outliers, but because of the logarithmic nature it would not be certain and furthermore it would make the comparison unfair, since we wouldn't have all countries.\n",
        "\n",
        "Therefore we chose to indicate the low GDP as the bottom 25% of the samples and by that it followed that high life expectancy was indicated by the top 25% of the samples. These countries where the 4 Blue ones in the plot, Barbados, Cyprus, Iceland and Malta."
      ]
    },
    {
      "cell_type": "markdown",
      "metadata": {
        "id": "CbE2Xua-_7zG"
      },
      "source": [
        "#Does every strong economy (normally indicated by GDP) have high life expectancy? "
      ]
    },
    {
      "cell_type": "code",
      "metadata": {
        "id": "iqGkEOiNGJCB",
        "outputId": "8f040ec8-0ebc-47f9-ece0-ba81c39f051d",
        "colab": {
          "base_uri": "https://localhost:8080/",
          "height": 300
        }
      },
      "source": [
        "#e\n",
        "fig, ax = plt.subplots()\n",
        "\n",
        "lowLifeExpHighGDP = lowLifeExp[lowLifeExp.gdp >= countries.gdp.quantile(0.75)]\n",
        "\n",
        "highLifeExp.plot.scatter(x=\"gdp\",y=\"life_exp\", alpha=0.7, logx=True,ax=ax, color='g')\n",
        "lowLifeExp.plot.scatter(x=\"gdp\",y=\"life_exp\",alpha=0.7, logx=True,ax=ax, color='r')\n",
        "highLifeExpLowGDP.plot.scatter(x=\"gdp\",y=\"life_exp\",alpha=0.7, logx=True,ax=ax, color='b')\n",
        "lowLifeExpHighGDP.plot.scatter(x=\"gdp\",y=\"life_exp\",alpha=0.7, logx=True,ax=ax, color='y')\n"
      ],
      "execution_count": 6,
      "outputs": [
        {
          "output_type": "execute_result",
          "data": {
            "text/plain": [
              "<matplotlib.axes._subplots.AxesSubplot at 0x7fb873c6d1d0>"
            ]
          },
          "metadata": {
            "tags": []
          },
          "execution_count": 6
        },
        {
          "output_type": "display_data",
          "data": {
            "image/png": "[encoded data removed]",
            "text/plain": [
              "<Figure size 432x288 with 1 Axes>"
            ]
          },
          "metadata": {
            "tags": [],
            "needs_background": "light"
          }
        }
      ]
    },
    {
      "cell_type": "markdown",
      "metadata": {
        "id": "NGlEyL1xGlSd"
      },
      "source": [
        "From the above plot the yellow dots are the countries which has a strong economy, but a relatively low life expectancy. Since these are so many (26/169 ~ 15%) it would be unreasonable to say that a strong economy has a strong indication on the life expectancy."
      ]
    },
    {
      "cell_type": "markdown",
      "metadata": {
        "id": "Ym0BTQlVHU25"
      },
      "source": [
        "### Related to question f, what would happen if you use GDP per capita as an indicator of strong economy? Explain the results you obtained, and discuss any insights you get from comparing the results of g and f"
      ]
    },
    {
      "cell_type": "code",
      "metadata": {
        "id": "6BFtfDyO_7zH",
        "outputId": "8f45afa8-1492-4bc1-e64c-500eb3d0af34",
        "colab": {
          "base_uri": "https://localhost:8080/",
          "height": 555
        }
      },
      "source": [
        "fig, ax = plt.subplots()\n",
        "\n",
        "highLifeExpLowGDPcap = highLifeExp[highLifeExp.gdp_capita < countries.gdp_capita.quantile(0.25)]\n",
        "\n",
        "highLifeExp.plot.scatter(x=\"gdp_capita\",y=\"life_exp\", alpha=0.7, logx=True,ax=ax, color='g')\n",
        "lowLifeExp.plot.scatter(x=\"gdp_capita\",y=\"life_exp\",alpha=0.7, logx=True,ax=ax, color='r')\n",
        "highLifeExpLowGDP.plot.scatter(x=\"gdp_capita\",y=\"life_exp\",alpha=0.7, logx=True,ax=ax, color='b')\n",
        "lowLifeExpHighGDP.plot.scatter(x=\"gdp_capita\",y=\"life_exp\",alpha=0.7, logx=True,ax=ax, color='y')\n",
        "\n",
        "highLifeExpLowGDPcap.describe()"
      ],
      "execution_count": 7,
      "outputs": [
        {
          "output_type": "execute_result",
          "data": {
            "text/html": [
              "<div>\n",
              "<style scoped>\n",
              "    .dataframe tbody tr th:only-of-type {\n",
              "        vertical-align: middle;\n",
              "    }\n",
              "\n",
              "    .dataframe tbody tr th {\n",
              "        vertical-align: top;\n",
              "    }\n",
              "\n",
              "    .dataframe thead th {\n",
              "        text-align: right;\n",
              "    }\n",
              "</style>\n",
              "<table border=\"1\" class=\"dataframe\">\n",
              "  <thead>\n",
              "    <tr style=\"text-align: right;\">\n",
              "      <th></th>\n",
              "      <th>year</th>\n",
              "      <th>gdp</th>\n",
              "      <th>gdp_capita</th>\n",
              "      <th>life_exp</th>\n",
              "    </tr>\n",
              "  </thead>\n",
              "  <tbody>\n",
              "    <tr>\n",
              "      <th>count</th>\n",
              "      <td>0.0</td>\n",
              "      <td>0.0</td>\n",
              "      <td>0.0</td>\n",
              "      <td>0.0</td>\n",
              "    </tr>\n",
              "    <tr>\n",
              "      <th>mean</th>\n",
              "      <td>NaN</td>\n",
              "      <td>NaN</td>\n",
              "      <td>NaN</td>\n",
              "      <td>NaN</td>\n",
              "    </tr>\n",
              "    <tr>\n",
              "      <th>std</th>\n",
              "      <td>NaN</td>\n",
              "      <td>NaN</td>\n",
              "      <td>NaN</td>\n",
              "      <td>NaN</td>\n",
              "    </tr>\n",
              "    <tr>\n",
              "      <th>min</th>\n",
              "      <td>NaN</td>\n",
              "      <td>NaN</td>\n",
              "      <td>NaN</td>\n",
              "      <td>NaN</td>\n",
              "    </tr>\n",
              "    <tr>\n",
              "      <th>25%</th>\n",
              "      <td>NaN</td>\n",
              "      <td>NaN</td>\n",
              "      <td>NaN</td>\n",
              "      <td>NaN</td>\n",
              "    </tr>\n",
              "    <tr>\n",
              "      <th>50%</th>\n",
              "      <td>NaN</td>\n",
              "      <td>NaN</td>\n",
              "      <td>NaN</td>\n",
              "      <td>NaN</td>\n",
              "    </tr>\n",
              "    <tr>\n",
              "      <th>75%</th>\n",
              "      <td>NaN</td>\n",
              "      <td>NaN</td>\n",
              "      <td>NaN</td>\n",
              "      <td>NaN</td>\n",
              "    </tr>\n",
              "    <tr>\n",
              "      <th>max</th>\n",
              "      <td>NaN</td>\n",
              "      <td>NaN</td>\n",
              "      <td>NaN</td>\n",
              "      <td>NaN</td>\n",
              "    </tr>\n",
              "  </tbody>\n",
              "</table>\n",
              "</div>"
            ],
            "text/plain": [
              "       year  gdp  gdp_capita  life_exp\n",
              "count   0.0  0.0         0.0       0.0\n",
              "mean    NaN  NaN         NaN       NaN\n",
              "std     NaN  NaN         NaN       NaN\n",
              "min     NaN  NaN         NaN       NaN\n",
              "25%     NaN  NaN         NaN       NaN\n",
              "50%     NaN  NaN         NaN       NaN\n",
              "75%     NaN  NaN         NaN       NaN\n",
              "max     NaN  NaN         NaN       NaN"
            ]
          },
          "metadata": {
            "tags": []
          },
          "execution_count": 7
        },
        {
          "output_type": "display_data",
          "data": {
            "image/png": "[encoded data removed]",
            "text/plain": [
              "<Figure size 432x288 with 1 Axes>"
            ]
          },
          "metadata": {
            "tags": [],
            "needs_background": "light"
          }
        }
      ]
    },
    {
      "cell_type": "markdown",
      "metadata": {
        "id": "NXfXZ3N1H0Fr"
      },
      "source": [
        "GDP per capita is a much stronger indicator for strong economy. We can instantly see that there are no countries with a high life expectancy that has a low GDP per capita. Furthermore we see that the yellow countries from the previous plot, actually has a more reasonable GDP per capita and are much more entertwined with the other low life expectancy countries. Similarly the blue dots don't stick out as much. The reason for this is probably that GDP per capita factors in that being a smaller country doesn't result in a lower life expectancy."
      ]
    },
    {
      "cell_type": "markdown",
      "metadata": {
        "id": "SSDdxBULJN8u"
      },
      "source": [
        "# 2. Download some other data sets, e.g. related to happiness and life satisfaction, trust, corruption, etc"
      ]
    },
    {
      "cell_type": "markdown",
      "metadata": {
        "id": "6eOnXF0BJRwt"
      },
      "source": [
        "### a. Think of several meaningful questions that can be answered with these data, make several informative visualisations to answer those questions. State any assumptions and motivate decisions that you make when selecting data to be plotted, and in combining data."
      ]
    },
    {
      "cell_type": "markdown",
      "metadata": {
        "id": "eRjYn8SNJeBZ"
      },
      "source": [
        "First of all we wanted to check how money contributes to corruption, and one of the first things we thought of there was that the economic inequality probably was another big factor, since poorly distributed wealth should indicate that the country has less democracy. Furthermore we thought it relevant to include the relation between GDP per capita and the other variables.\n",
        "\n",
        "**Data sets:**\n",
        "\n",
        "All data sets where picked from a specific year with the highest amount of data points, which in this case was 2012. This data cleaning was done for the same reason as described in question 1.\n",
        "\n",
        "* [Economic Inequality](https://ourworldindata.org/grapher/economic-inequality-gini-index?tab=table)\n",
        "\n",
        "*Using the Gini index.*\n",
        "\n",
        "* [Corruption](https://ourworldindata.org/grapher/TI-corruption-perception-index?tab=table)\n",
        "\n",
        "*Measured as the perceived corruption by experts and opinion surverys. The indata however measures a low corruption with a high value, therefore we inverted the corruption to indicate that a high corruption puts the country further to the right.*\n",
        "\n",
        "* [Life satisfaction](https://ourworldindata.org/grapher/happiness-cantril-ladder?tab=table)\n",
        "\n",
        "*Measured in surveys by the 'Cantril Ladder' where each person is asked how close they are to their worst possible or best possible life, from 0 to 10. *\n",
        "\n",
        "* [Gdp per capita](https://ourworldindata.org/grapher/gdp-per-capita-worldbank?tab=table)\n",
        "\n",
        "*As a measure for the wealth in a country.*\n",
        "\n",
        "_____________________\n",
        "\n",
        "Questions we want to answer:\n",
        "\n",
        "1. How much does corruption and economic inequality correlate?\n",
        "\n",
        "2. How much is life satisfaction impacted by corruption and economic inequality?\n",
        "\n",
        "3. How does a countries wealth impact the other variables?\n",
        "\n",
        "Hypothesis:\n",
        "\n",
        "1. We assume that countries with a higher corruption has a big part of their wealth owned by a fraction of the population. When a country has a very rich minority it seems likely that they have an incentive to affect the public sector to better fit their needs. Furthermore this probably works since the rest of the country does not have a lot of money and are thus more susceptible to bribes. This and similar stereotypes is the constitution for our hypothesis.\n",
        "\n",
        "2. We believe that a high corruption and/or economic inequality would make people feel less satisfied with their lives. Higher levels of corruption could lead to the citizens feeling powerless in affecting their life and also lead them to think that their lives are unjust, which we assume leads to less satisfied lives. Higher levels of economic inequality should make large parts of the country comparatively poor. Being poor can result in people having a hard time surviving from day to day, which of course would be very stressful and lead to a life where you are not able to satisfy your desires. Futhermore since the economy is not just low, but it is inequally distributed, these poorer individuals will see how rich their upper-class is and strive towards that, thus not feeling satisfied with their lives.\n",
        "\n",
        "3. We believe that wealth will have a definite impact on corruption and life satisfaction. We have the perception that wealthier countries generally have a more democratic rule, mostly since we know that most of the industrial countries are both wealthier and in large part has a democracy. Furthermore we believe that a democratic rules leaves less room for corruption. In regards to the economic inequality we do not think that the correlation will work for all cases, but the more democratic should be both wealthier and have a more equally distributed wealth due to our previous assessments. Finally the life satisfaction will correlate by extension of the other variables, i.e. in countries where the GDP per capita lowers the corruption and economic inequality will by extension of our other hypotheses result in a higher life satisfaction.\n"
      ]
    },
    {
      "cell_type": "code",
      "metadata": {
        "id": "G_MnGG1O_7zM",
        "outputId": "c4d9f1d3-ea78-43aa-9188-f17d3c72ab5e",
        "colab": {
          "base_uri": "https://localhost:8080/",
          "height": 387
        }
      },
      "source": [
        "from sklearn import preprocessing\n",
        "\n",
        "# Read data\n",
        "incomeInEq = pd.read_csv(\"/content/drive/My Drive/DAT405/economic-inequality-gini-index.csv\")\n",
        "corruption = pd.read_csv(\"/content/drive/My Drive/DAT405/TI-corruption-perception-index.csv\")\n",
        "gdpCap = pd.read_csv(\"/content/drive/My Drive/DAT405/gdp-per-capita-worldbank.csv\")\n",
        "satisfaction = pd.read_csv(\"/content/drive/My Drive/DAT405/happiness-cantril-ladder.csv\")\n",
        "\n",
        "# Merge, data cleaning, set index\n",
        "countries = incomeInEq.merge(corruption).merge(gdpCap).merge(satisfaction).set_index(\"Code\")\n",
        "countries.columns= [\"country\",\"year\",\"gini\",\"corruption\",\"gdp_capita\",\"satisfaction\"]\n",
        "\n",
        "# Data cleaning, choose year 2012\n",
        "countries = countries[countries.year == 2012]\n",
        "\n",
        "# Normalize GDP per capita\n",
        "min_max_scaler = preprocessing.MinMaxScaler()\n",
        "x = countries[['gdp_capita']].values.astype(float)\n",
        "x_scaled = min_max_scaler.fit_transform(x)\n",
        "# Increase to more readable values\n",
        "norm_gdp_capita = (x_scaled+0.01)*300\n",
        "\n",
        "# Plotting\n",
        "plt.rcParams['figure.figsize'] = [1*7, 1*6]\n",
        "fig, ax = plt.subplots()\n",
        "countries.plot.scatter(x=\"corruption\", y=\"gini\", s=norm_gdp_capita,c=countries.satisfaction,cmap=\"RdYlGn\", ax=ax, alpha=0.8)\n",
        "ax.set_xlabel(\"Perceived Corruption\")\n",
        "ax.set_ylabel(\"Income inequality (gini)\")\n",
        "\n",
        "ax.invert_xaxis() # Flip the corruption to have high corruption be to the right\n",
        "\n",
        "plt.show()"
      ],
      "execution_count": 38,
      "outputs": [
        {
          "output_type": "display_data",
          "data": {
            "image/png": "[encoded data removed]",
            "text/plain": [
              "<Figure size 504x432 with 2 Axes>"
            ]
          },
          "metadata": {
            "tags": [],
            "needs_background": "light"
          }
        }
      ]
    },
    {
      "cell_type": "markdown",
      "metadata": {
        "id": "gS_-yIA0M_SK"
      },
      "source": [
        "### b. Discuss any observations that you make, or insights obtained, from the data visualisations.\n",
        "\n",
        "1. How much does corruption and economic inequality correlate?\n",
        "\n",
        "The first thing we see in regards to the plot is that there is a surprising spread across the x and y axis, since almost every part of the field has some dots. The only part that does not have dots is the top left part, i.e. where there is low corruption but high inequality. Note also that this part of the plot seems to be linearly cut off from the rest. This seems to indicate that the corruption level sets the maximum economic inequality the country has, but we cannot predict where in the span it actually lies. An interesting observation from this is that a high corruption means that you have almost no clue as to where the economic inequality lies, but with a low corruption you can be quite certain you have a low economic inequality.\n",
        "\n",
        "Therefore it seems that we were only partly correct in our hypothesis that a high corruption would result in a higher income inequality. It does seem that the average income inequality across all countries with similar corruption is higher, but the variation is very large.\n",
        "\n",
        "2. How much is life satisfaction impacted by corruption and economic inequality?\n",
        "\n",
        "The green dots generally follow the linear line where the economic inequality is as large as possible in relation to the corruption, which seems very weird. For example the dots with a gini of ~50 are greener than the countries with the same corruption but with lower gini. A trend that we can see however is that there are still a lot more red dots towards the higher corruption levels, indicating that the corruption does have an impact upon the life satisfaction. \n",
        "\n",
        "It might simply be the case that the dots around gini ~50 are outliers where the economic situation is very volatile, such as if a country just found oil. In that case there are a few people that get all the money from that oil, which increases the economic inequality, but that does not decrease the life satisfaction of the common citizen. Instead the common citizens will probably get more opportunities to get good jobs and a higher living standard because of all the opportunities the booming economy has on the country. Compared to their old lives they probably get a lot closer to their dreams of \"living their best possible life\".\n",
        "\n",
        "3. How does a countries wealth impact the other variables?\n",
        "\n",
        "(See plot below) The gdp per capita seems to be a pretty good indicator of a countries corruption, but it does have a few big outliers. In regards to life satisfaction, we see that there seems to be some relation between them, but not as pronounced as with corruption. However gdp per capita does not seem to be a particularly good indicator for the gini, besides the fact that a higher gdp per capita indicates that there is less room for the economic inequality to vary.\n",
        " "
      ]
    },
    {
      "cell_type": "code",
      "metadata": {
        "id": "tFJhxkVfzlgd",
        "outputId": "46346b5d-cc87-4cb9-891c-44c8111548db",
        "colab": {
          "base_uri": "https://localhost:8080/",
          "height": 387
        }
      },
      "source": [
        "#Plotting\n",
        "plt.rcParams['figure.figsize'] = [3*7, 1*6] #Resize figure to allow 2 subplots in x\n",
        "\n",
        "fig, (ax1,ax2,ax3) = plt.subplots(1,3)\n",
        "countries.plot.scatter(x=\"gdp_capita\",y=\"corruption\", alpha=0.7, ax=ax1)\n",
        "countries.plot.scatter(x=\"gdp_capita\",y=\"satisfaction\", alpha=0.7, ax=ax2)\n",
        "countries.plot.scatter(x=\"gdp_capita\",y=\"gini\", alpha=0.7, ax=ax3)\n",
        "\n",
        "plt.subplots_adjust(wspace=0.4)\n",
        "\n",
        "ax1.set_xlabel(\"GDP per Capita in US $\")\n",
        "ax1.set_ylabel(\"Perceived Corruption\")\n",
        "ax2.set_xlabel(\"GDP per Capita in US $\")\n",
        "ax2.set_ylabel(\"Life satisfaction\")\n",
        "ax3.set_xlabel(\"GDP per Capita in US $\")\n",
        "ax3.set_ylabel(\"Income inequality (gini)\")\n",
        "ax1.invert_yaxis()\n",
        "plt.show()"
      ],
      "execution_count": 33,
      "outputs": [
        {
          "output_type": "display_data",
          "data": {
            "image/png": "[encoded data removed]",
            "text/plain": [
              "<Figure size 1512x432 with 3 Axes>"
            ]
          },
          "metadata": {
            "tags": [],
            "needs_background": "light"
          }
        }
      ]
    }
  ]
}