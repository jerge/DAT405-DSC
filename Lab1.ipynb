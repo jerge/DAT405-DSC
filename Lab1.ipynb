{
 "cells": [
  {
   "cell_type": "markdown",
   "metadata": {
    "colab_type": "text",
    "id": "view-in-github"
   },
   "source": [
    "<a href=\"https://colab.research.google.com/github/jerge/DAT405-DSC/blob/main/Lab1.ipynb\" target=\"_parent\"><img src=\"https://colab.research.google.com/assets/colab-badge.svg\" alt=\"Open In Colab\"/></a>"
   ]
  },
  {
   "cell_type": "code",
   "execution_count": null,
   "metadata": {
    "colab": {
     "base_uri": "https://localhost:8080/"
    },
    "id": "Yz5Y3Tu_1wrL",
    "outputId": "537014f6-7a04-4c1b-b150-46f0406acdf1"
   },
   "outputs": [
    {
     "name": "stdout",
     "output_type": "stream",
     "text": [
      "Drive already mounted at /content/drive; to attempt to forcibly remount, call drive.mount(\"/content/drive\", force_remount=True).\n"
     ]
    }
   ],
   "source": [
    "from google.colab import drive\n",
    "drive.mount('/content/drive')"
   ]
  },
  {
   "cell_type": "markdown",
   "metadata": {
    "id": "vTJ9uJ4HfXdg"
   },
   "source": [
    "# Download Some Data Related to GDP per capita and life expectancy\n"
   ]
  },
  {
   "cell_type": "markdown",
   "metadata": {
    "id": "zkQqQJqNg5Nj"
   },
   "source": [
    "### Write a Python program that draws a scatter plot of GDP per capita vs life expectancy. State any assumptions and motivate decisions that you make when selecting data to be plotted, and in combining data. [1p]"
   ]
  },
  {
   "cell_type": "markdown",
   "metadata": {
    "id": "iDfaRH8VyhKQ"
   },
   "source": [
    "We decided that we only wanted to use data from one year, since subsequent years would be similar and we did not want to clutter the plot. Furthermore we assumed that each country would have a similar GDP / Life expectancy ratio and thus it would be sufficient to plot only one point per country to see a trend. Plotting the same country multiple times would make it hard to compare them to each other, which seemed to be useful in order to answer the later questions.\n",
    "\n",
    "We took data from only 2015, since we had the most data from that year."
   ]
  },
  {
   "cell_type": "code",
   "execution_count": 67,
   "metadata": {},
   "outputs": [
    {
     "data": {
      "text/html": [
       "<div>\n",
       "<style scoped>\n",
       "    .dataframe tbody tr th:only-of-type {\n",
       "        vertical-align: middle;\n",
       "    }\n",
       "\n",
       "    .dataframe tbody tr th {\n",
       "        vertical-align: top;\n",
       "    }\n",
       "\n",
       "    .dataframe thead th {\n",
       "        text-align: right;\n",
       "    }\n",
       "</style>\n",
       "<table border=\"1\" class=\"dataframe\">\n",
       "  <thead>\n",
       "    <tr style=\"text-align: right;\">\n",
       "      <th></th>\n",
       "      <th>country</th>\n",
       "      <th>year</th>\n",
       "      <th>gdp</th>\n",
       "      <th>gdp_capita</th>\n",
       "      <th>life_exp</th>\n",
       "    </tr>\n",
       "    <tr>\n",
       "      <th>Code</th>\n",
       "      <th></th>\n",
       "      <th></th>\n",
       "      <th></th>\n",
       "      <th></th>\n",
       "      <th></th>\n",
       "    </tr>\n",
       "  </thead>\n",
       "  <tbody>\n",
       "    <tr>\n",
       "      <th>ALB</th>\n",
       "      <td>Albania</td>\n",
       "      <td>2015</td>\n",
       "      <td>32826175488</td>\n",
       "      <td>10970.452245</td>\n",
       "      <td>78.025</td>\n",
       "    </tr>\n",
       "    <tr>\n",
       "      <th>DZA</th>\n",
       "      <td>Algeria</td>\n",
       "      <td>2015</td>\n",
       "      <td>481546174464</td>\n",
       "      <td>13724.723853</td>\n",
       "      <td>76.090</td>\n",
       "    </tr>\n",
       "    <tr>\n",
       "      <th>AGO</th>\n",
       "      <td>Angola</td>\n",
       "      <td>2015</td>\n",
       "      <td>154071351296</td>\n",
       "      <td>6227.664689</td>\n",
       "      <td>59.398</td>\n",
       "    </tr>\n",
       "    <tr>\n",
       "      <th>ATG</th>\n",
       "      <td>Antigua and Barbuda</td>\n",
       "      <td>2015</td>\n",
       "      <td>943836736</td>\n",
       "      <td>20154.947488</td>\n",
       "      <td>76.483</td>\n",
       "    </tr>\n",
       "    <tr>\n",
       "      <th>ARG</th>\n",
       "      <td>Argentina</td>\n",
       "      <td>2015</td>\n",
       "      <td>712662646784</td>\n",
       "      <td>19116.907915</td>\n",
       "      <td>76.068</td>\n",
       "    </tr>\n",
       "    <tr>\n",
       "      <th>...</th>\n",
       "      <td>...</td>\n",
       "      <td>...</td>\n",
       "      <td>...</td>\n",
       "      <td>...</td>\n",
       "      <td>...</td>\n",
       "    </tr>\n",
       "    <tr>\n",
       "      <th>UZB</th>\n",
       "      <td>Uzbekistan</td>\n",
       "      <td>2015</td>\n",
       "      <td>283167719424</td>\n",
       "      <td>5700.236028</td>\n",
       "      <td>70.928</td>\n",
       "    </tr>\n",
       "    <tr>\n",
       "      <th>VNM</th>\n",
       "      <td>Vietnam</td>\n",
       "      <td>2015</td>\n",
       "      <td>511142723584</td>\n",
       "      <td>5554.858056</td>\n",
       "      <td>75.110</td>\n",
       "    </tr>\n",
       "    <tr>\n",
       "      <th>YEM</th>\n",
       "      <td>Yemen</td>\n",
       "      <td>2015</td>\n",
       "      <td>67136618496</td>\n",
       "      <td>2308.636584</td>\n",
       "      <td>66.085</td>\n",
       "    </tr>\n",
       "    <tr>\n",
       "      <th>ZMB</th>\n",
       "      <td>Zambia</td>\n",
       "      <td>2015</td>\n",
       "      <td>58147405824</td>\n",
       "      <td>3627.202041</td>\n",
       "      <td>61.737</td>\n",
       "    </tr>\n",
       "    <tr>\n",
       "      <th>ZWE</th>\n",
       "      <td>Zimbabwe</td>\n",
       "      <td>2015</td>\n",
       "      <td>29150750720</td>\n",
       "      <td>1912.280261</td>\n",
       "      <td>59.534</td>\n",
       "    </tr>\n",
       "  </tbody>\n",
       "</table>\n",
       "<p>169 rows × 5 columns</p>\n",
       "</div>"
      ],
      "text/plain": [
       "                  country  year           gdp    gdp_capita  life_exp\n",
       "Code                                                                 \n",
       "ALB               Albania  2015   32826175488  10970.452245    78.025\n",
       "DZA               Algeria  2015  481546174464  13724.723853    76.090\n",
       "AGO                Angola  2015  154071351296   6227.664689    59.398\n",
       "ATG   Antigua and Barbuda  2015     943836736  20154.947488    76.483\n",
       "ARG             Argentina  2015  712662646784  19116.907915    76.068\n",
       "...                   ...   ...           ...           ...       ...\n",
       "UZB            Uzbekistan  2015  283167719424   5700.236028    70.928\n",
       "VNM               Vietnam  2015  511142723584   5554.858056    75.110\n",
       "YEM                 Yemen  2015   67136618496   2308.636584    66.085\n",
       "ZMB                Zambia  2015   58147405824   3627.202041    61.737\n",
       "ZWE              Zimbabwe  2015   29150750720   1912.280261    59.534\n",
       "\n",
       "[169 rows x 5 columns]"
      ]
     },
     "execution_count": 67,
     "metadata": {},
     "output_type": "execute_result"
    },
    {
     "data": {
      "image/png": "[encoded data removed]",
      "text/plain": [
       "<Figure size 432x288 with 1 Axes>"
      ]
     },
     "metadata": {
      "needs_background": "light"
     },
     "output_type": "display_data"
    }
   ],
   "source": [
    "import matplotlib.pyplot as plt\n",
    "import pandas as pd\n",
    "import matplotlib.pyplot as plt\n",
    "\n",
    "\n",
    "GdpPerCap = pd.read_csv(\"gdp-per-capita-worldbank.csv\")\n",
    "LifeExpect = pd.read_csv(\"life-expectancy.csv\")\n",
    "NatGdp = pd.read_csv(\"national-gdp.csv\")\n",
    "\n",
    "countries = NatGdp.merge(GdpPerCap, on=[\"Entity\", \"Code\", \"Year\"]).merge(LifeExpect, on=[\"Entity\", \"Code\", \"Year\"])\n",
    "countries = countries[countries.Year == 2015]\n",
    "\n",
    "countries = countries.set_index(\"Code\")\n",
    "countries.columns= [\"country\",\"year\",\"gdp\",\"gdp_capita\", \"life_exp\"]\n",
    "\n",
    "countries.plot.scatter(x=\"gdp_capita\",y=\"life_exp\",logx=True, alpha=0.7)\n",
    "\n",
    "countries"
   ]
  },
  {
   "cell_type": "markdown",
   "metadata": {
    "id": "fV7qG5HGhIAV"
   },
   "source": [
    "### Consider whether the results obtained seem reasonable and discuss what might be the explanation for the results you obtained. [1p]\n"
   ]
  },
  {
   "cell_type": "markdown",
   "metadata": {
    "id": "Pq2gojJshLGs"
   },
   "source": [
    "The trend seems to be a logarithmic curve with a few outliers. In a richer country the life expectancy increases, which makes sense. If we assume a richer country has a higher GDP per Capita the people in that country should be able to afford all their basic needs and as such avoid starvation and health deficits related to bad hygien and similar things. Further wealth contributes to health care and medicine, but after a certain point there is a diminishing return on how much wealth impacts the life expectancy.\n",
    "\n",
    "Almost all outliers are a result of the country being pretty poor and then finding oil, resulting in a huge boost in the economy, which has not had the time needed to positively affect the public health. Furthermore the wealth is probably not distributed properly, since the people owning oil is probably just a small percentage of the population."
   ]
  },
  {
   "cell_type": "markdown",
   "metadata": {
    "id": "WzAZvJAChOWF"
   },
   "source": [
    "### Data Cleaning and Why?\n",
    "* Om inte data från 2015\n",
    "* Länder som inte har data punkter för alla columner\n",
    "* Medelvärdes entries, ex. World fanns med\n"
   ]
  },
  {
   "cell_type": "code",
   "execution_count": 86,
   "metadata": {
    "colab": {
     "base_uri": "https://localhost:8080/"
    },
    "id": "zAYO0E048ivK",
    "outputId": "d1ecca22-af95-4baf-b533-a73123650913"
   },
   "outputs": [
    {
     "data": {
      "text/plain": [
       "<matplotlib.axes._subplots.AxesSubplot at 0x2c820d20f10>"
      ]
     },
     "execution_count": 86,
     "metadata": {},
     "output_type": "execute_result"
    },
    {
     "data": {
      "image/png": "[encoded data removed]",
      "text/plain": [
       "<Figure size 432x288 with 1 Axes>"
      ]
     },
     "metadata": {
      "needs_background": "light"
     },
     "output_type": "display_data"
    }
   ],
   "source": [
    "stdevs = countries.std(axis = 0)\n",
    "means = countries.mean(axis = 0)\n",
    "highLifeExp = countries[countries.life_exp > stdevs.life_exp + means.life_exp]\n",
    "lowLifeExp = countries[countries.life_exp <= stdevs.life_exp + means.life_exp]\n",
    "\n",
    "fig, ax = plt.subplots()\n",
    "highLifeExp.plot.scatter(x=\"gdp_capita\",y=\"life_exp\", alpha=0.7,ax=ax, color='g')\n",
    "lowLifeExp.plot.scatter(x=\"gdp_capita\",y=\"life_exp\",alpha=0.7,ax=ax, color='r')"
   ]
  },
  {
   "cell_type": "code",
   "execution_count": 90,
   "metadata": {},
   "outputs": [
    {
     "data": {
      "text/html": [
       "<div>\n",
       "<style scoped>\n",
       "    .dataframe tbody tr th:only-of-type {\n",
       "        vertical-align: middle;\n",
       "    }\n",
       "\n",
       "    .dataframe tbody tr th {\n",
       "        vertical-align: top;\n",
       "    }\n",
       "\n",
       "    .dataframe thead th {\n",
       "        text-align: right;\n",
       "    }\n",
       "</style>\n",
       "<table border=\"1\" class=\"dataframe\">\n",
       "  <thead>\n",
       "    <tr style=\"text-align: right;\">\n",
       "      <th></th>\n",
       "      <th>country</th>\n",
       "      <th>year</th>\n",
       "      <th>gdp</th>\n",
       "      <th>gdp_capita</th>\n",
       "      <th>life_exp</th>\n",
       "    </tr>\n",
       "    <tr>\n",
       "      <th>Code</th>\n",
       "      <th></th>\n",
       "      <th></th>\n",
       "      <th></th>\n",
       "      <th></th>\n",
       "      <th></th>\n",
       "    </tr>\n",
       "  </thead>\n",
       "  <tbody>\n",
       "    <tr>\n",
       "      <th>AUT</th>\n",
       "      <td>Austria</td>\n",
       "      <td>2015</td>\n",
       "      <td>387296296960</td>\n",
       "      <td>44304.967757</td>\n",
       "      <td>81.182</td>\n",
       "    </tr>\n",
       "    <tr>\n",
       "      <th>BEL</th>\n",
       "      <td>Belgium</td>\n",
       "      <td>2015</td>\n",
       "      <td>417381416960</td>\n",
       "      <td>41708.212340</td>\n",
       "      <td>80.969</td>\n",
       "    </tr>\n",
       "    <tr>\n",
       "      <th>CYP</th>\n",
       "      <td>Cyprus</td>\n",
       "      <td>2015</td>\n",
       "      <td>23035398144</td>\n",
       "      <td>30549.100970</td>\n",
       "      <td>80.350</td>\n",
       "    </tr>\n",
       "    <tr>\n",
       "      <th>DNK</th>\n",
       "      <td>Denmark</td>\n",
       "      <td>2015</td>\n",
       "      <td>243726254080</td>\n",
       "      <td>45458.697149</td>\n",
       "      <td>80.475</td>\n",
       "    </tr>\n",
       "    <tr>\n",
       "      <th>FIN</th>\n",
       "      <td>Finland</td>\n",
       "      <td>2015</td>\n",
       "      <td>206622720000</td>\n",
       "      <td>38941.763603</td>\n",
       "      <td>81.196</td>\n",
       "    </tr>\n",
       "    <tr>\n",
       "      <th>GRC</th>\n",
       "      <td>Greece</td>\n",
       "      <td>2015</td>\n",
       "      <td>260095885312</td>\n",
       "      <td>24170.301837</td>\n",
       "      <td>81.548</td>\n",
       "    </tr>\n",
       "    <tr>\n",
       "      <th>HKG</th>\n",
       "      <td>Hong Kong</td>\n",
       "      <td>2015</td>\n",
       "      <td>288184369152</td>\n",
       "      <td>53591.835820</td>\n",
       "      <td>84.043</td>\n",
       "    </tr>\n",
       "    <tr>\n",
       "      <th>ISL</th>\n",
       "      <td>Iceland</td>\n",
       "      <td>2015</td>\n",
       "      <td>13045315584</td>\n",
       "      <td>43048.125145</td>\n",
       "      <td>82.481</td>\n",
       "    </tr>\n",
       "    <tr>\n",
       "      <th>IRL</th>\n",
       "      <td>Ireland</td>\n",
       "      <td>2015</td>\n",
       "      <td>317222780928</td>\n",
       "      <td>60818.046240</td>\n",
       "      <td>81.344</td>\n",
       "    </tr>\n",
       "    <tr>\n",
       "      <th>ISR</th>\n",
       "      <td>Israel</td>\n",
       "      <td>2015</td>\n",
       "      <td>281055756288</td>\n",
       "      <td>32024.352771</td>\n",
       "      <td>82.340</td>\n",
       "    </tr>\n",
       "    <tr>\n",
       "      <th>LUX</th>\n",
       "      <td>Luxembourg</td>\n",
       "      <td>2015</td>\n",
       "      <td>39506448384</td>\n",
       "      <td>94088.592225</td>\n",
       "      <td>81.636</td>\n",
       "    </tr>\n",
       "    <tr>\n",
       "      <th>MAC</th>\n",
       "      <td>Macao</td>\n",
       "      <td>2015</td>\n",
       "      <td>52461273088</td>\n",
       "      <td>100444.593628</td>\n",
       "      <td>83.707</td>\n",
       "    </tr>\n",
       "    <tr>\n",
       "      <th>MLT</th>\n",
       "      <td>Malta</td>\n",
       "      <td>2015</td>\n",
       "      <td>11749704704</td>\n",
       "      <td>34087.081514</td>\n",
       "      <td>81.896</td>\n",
       "    </tr>\n",
       "    <tr>\n",
       "      <th>NZL</th>\n",
       "      <td>New Zealand</td>\n",
       "      <td>2015</td>\n",
       "      <td>160641253376</td>\n",
       "      <td>35309.823724</td>\n",
       "      <td>81.713</td>\n",
       "    </tr>\n",
       "    <tr>\n",
       "      <th>NOR</th>\n",
       "      <td>Norway</td>\n",
       "      <td>2015</td>\n",
       "      <td>326766886912</td>\n",
       "      <td>64008.286830</td>\n",
       "      <td>81.912</td>\n",
       "    </tr>\n",
       "    <tr>\n",
       "      <th>PRT</th>\n",
       "      <td>Portugal</td>\n",
       "      <td>2015</td>\n",
       "      <td>275554271232</td>\n",
       "      <td>26607.833123</td>\n",
       "      <td>81.224</td>\n",
       "    </tr>\n",
       "    <tr>\n",
       "      <th>SGP</th>\n",
       "      <td>Singapore</td>\n",
       "      <td>2015</td>\n",
       "      <td>361788833792</td>\n",
       "      <td>81741.096936</td>\n",
       "      <td>82.877</td>\n",
       "    </tr>\n",
       "    <tr>\n",
       "      <th>SVN</th>\n",
       "      <td>Slovenia</td>\n",
       "      <td>2015</td>\n",
       "      <td>53819801600</td>\n",
       "      <td>29037.741676</td>\n",
       "      <td>80.673</td>\n",
       "    </tr>\n",
       "    <tr>\n",
       "      <th>SWE</th>\n",
       "      <td>Sweden</td>\n",
       "      <td>2015</td>\n",
       "      <td>411178139648</td>\n",
       "      <td>45679.277997</td>\n",
       "      <td>82.251</td>\n",
       "    </tr>\n",
       "    <tr>\n",
       "      <th>CHE</th>\n",
       "      <td>Switzerland</td>\n",
       "      <td>2015</td>\n",
       "      <td>522778181632</td>\n",
       "      <td>57264.157397</td>\n",
       "      <td>83.142</td>\n",
       "    </tr>\n",
       "  </tbody>\n",
       "</table>\n",
       "</div>"
      ],
      "text/plain": [
       "          country  year           gdp     gdp_capita  life_exp\n",
       "Code                                                          \n",
       "AUT       Austria  2015  387296296960   44304.967757    81.182\n",
       "BEL       Belgium  2015  417381416960   41708.212340    80.969\n",
       "CYP        Cyprus  2015   23035398144   30549.100970    80.350\n",
       "DNK       Denmark  2015  243726254080   45458.697149    80.475\n",
       "FIN       Finland  2015  206622720000   38941.763603    81.196\n",
       "GRC        Greece  2015  260095885312   24170.301837    81.548\n",
       "HKG     Hong Kong  2015  288184369152   53591.835820    84.043\n",
       "ISL       Iceland  2015   13045315584   43048.125145    82.481\n",
       "IRL       Ireland  2015  317222780928   60818.046240    81.344\n",
       "ISR        Israel  2015  281055756288   32024.352771    82.340\n",
       "LUX    Luxembourg  2015   39506448384   94088.592225    81.636\n",
       "MAC         Macao  2015   52461273088  100444.593628    83.707\n",
       "MLT         Malta  2015   11749704704   34087.081514    81.896\n",
       "NZL   New Zealand  2015  160641253376   35309.823724    81.713\n",
       "NOR        Norway  2015  326766886912   64008.286830    81.912\n",
       "PRT      Portugal  2015  275554271232   26607.833123    81.224\n",
       "SGP     Singapore  2015  361788833792   81741.096936    82.877\n",
       "SVN      Slovenia  2015   53819801600   29037.741676    80.673\n",
       "SWE        Sweden  2015  411178139648   45679.277997    82.251\n",
       "CHE   Switzerland  2015  522778181632   57264.157397    83.142"
      ]
     },
     "execution_count": 90,
     "metadata": {},
     "output_type": "execute_result"
    },
    {
     "data": {
      "image/png": "[encoded data removed]",
      "text/plain": [
       "<Figure size 432x288 with 1 Axes>"
      ]
     },
     "metadata": {
      "needs_background": "light"
     },
     "output_type": "display_data"
    }
   ],
   "source": [
    "from math import log\n",
    "\n",
    "fig, ax = plt.subplots()\n",
    "highLifeExp.plot.scatter(x=\"gdp\",y=\"life_exp\", alpha=0.7, logx=True,ax=ax, color='g')\n",
    "lowLifeExp.plot.scatter(x=\"gdp\",y=\"life_exp\",alpha=0.7, logx=True,ax=ax, color='r')\n",
    "\n",
    "highLifeExpLowGDP = highLifeExp[highLifeExp.gdp <= means.gdp]\n",
    "highLifeExpLowGDP #Finns inga länder som har GDP under mean och hög life exp"
   ]
  },
  {
   "cell_type": "code",
   "execution_count": 15,
   "metadata": {
    "colab": {
     "base_uri": "https://localhost:8080/",
     "height": 265
    },
    "id": "6TWn9iV6-CbD",
    "outputId": "5d7d2436-53f3-4c85-d92a-5b388d055127"
   },
   "outputs": [
    {
     "data": {
      "image/png": "[encoded data removed]",
      "text/plain": [
       "<Figure size 432x288 with 1 Axes>"
      ]
     },
     "metadata": {
      "needs_background": "light",
      "tags": []
     },
     "output_type": "display_data"
    }
   ],
   "source": [
    "hiC,hiL,hiG = zip(*highLECountry)\n",
    "lowC,lowL,lowG = zip(*lowLECountry)\n",
    "\n",
    "plt.scatter(hiG,hiL, color='g', alpha=0.5)\n",
    "plt.scatter(lowG,lowL, color='r', alpha=0.5)\n",
    "\n",
    "plt.show()"
   ]
  },
  {
   "cell_type": "markdown",
   "metadata": {
    "id": "kT9eK983__a1"
   },
   "source": [
    "Antar high lifexpecetency som en std från mean\n",
    " \n",
    "Antar low gpd som en std från mean på höga \n"
   ]
  },
  {
   "cell_type": "code",
   "execution_count": 26,
   "metadata": {
    "colab": {
     "base_uri": "https://localhost:8080/"
    },
    "id": "CXZAb093AVW7",
    "outputId": "ec91565e-2d64-479b-8f18-3cb3d07c182b"
   },
   "outputs": [
    {
     "name": "stdout",
     "output_type": "stream",
     "text": [
      "[('Greece', 81.548, 24170.3018369872)]\n"
     ]
    }
   ],
   "source": [
    "meanHiGDP = statistics.mean(hiG)\n",
    "stdHiGDP = statistics.stdev(hiG)\n",
    "\n",
    "highLeHiGDPCountry = []\n",
    "highLeLowGDPCountry = []\n",
    "\n",
    "for (country,le,gdp) in lifeExpectancyList:\n",
    "  if le > mean + stDev and gdp < meanHiGDP - stdHiGDP:\n",
    "    highLeLowGDPCountry.append((country,le,gdp))\n",
    "  elif le > mean + stDev:\n",
    "    highLeHiGDPCountry.append((country,le,gdp))\n",
    "\n",
    "print(highLeLowGDPCountry)"
   ]
  },
  {
   "cell_type": "code",
   "execution_count": 2,
   "metadata": {
    "colab": {
     "base_uri": "https://localhost:8080/",
     "height": 265
    },
    "id": "MAt0JzUfCAlY",
    "outputId": "404ccbc4-d71f-4218-a9a1-5ec750ef619b"
   },
   "outputs": [
    {
     "ename": "NameError",
     "evalue": "name 'highLeHiGDPCountry' is not defined",
     "output_type": "error",
     "traceback": [
      "\u001b[1;31m---------------------------------------------------------------------------\u001b[0m",
      "\u001b[1;31mNameError\u001b[0m                                 Traceback (most recent call last)",
      "\u001b[1;32m<ipython-input-2-1230cf5c524e>\u001b[0m in \u001b[0;36m<module>\u001b[1;34m\u001b[0m\n\u001b[1;32m----> 1\u001b[1;33m \u001b[0mhiHiC\u001b[0m\u001b[1;33m,\u001b[0m\u001b[0mhiHiL\u001b[0m\u001b[1;33m,\u001b[0m\u001b[0mhiHiG\u001b[0m \u001b[1;33m=\u001b[0m \u001b[0mzip\u001b[0m\u001b[1;33m(\u001b[0m\u001b[1;33m*\u001b[0m\u001b[0mhighLeHiGDPCountry\u001b[0m\u001b[1;33m)\u001b[0m\u001b[1;33m\u001b[0m\u001b[1;33m\u001b[0m\u001b[0m\n\u001b[0m\u001b[0;32m      2\u001b[0m \u001b[0mhiLowC\u001b[0m\u001b[1;33m,\u001b[0m\u001b[0mhiLowL\u001b[0m\u001b[1;33m,\u001b[0m\u001b[0mhiLowG\u001b[0m \u001b[1;33m=\u001b[0m \u001b[0mzip\u001b[0m\u001b[1;33m(\u001b[0m\u001b[1;33m*\u001b[0m\u001b[0mhighLeLowGDPCountry\u001b[0m\u001b[1;33m)\u001b[0m\u001b[1;33m\u001b[0m\u001b[1;33m\u001b[0m\u001b[0m\n\u001b[0;32m      3\u001b[0m \u001b[0mlowC\u001b[0m\u001b[1;33m,\u001b[0m\u001b[0mlowL\u001b[0m\u001b[1;33m,\u001b[0m\u001b[0mlowG\u001b[0m \u001b[1;33m=\u001b[0m \u001b[0mzip\u001b[0m\u001b[1;33m(\u001b[0m\u001b[1;33m*\u001b[0m\u001b[0mlowLECountry\u001b[0m\u001b[1;33m)\u001b[0m\u001b[1;33m\u001b[0m\u001b[1;33m\u001b[0m\u001b[0m\n\u001b[0;32m      4\u001b[0m \u001b[1;33m\u001b[0m\u001b[0m\n\u001b[0;32m      5\u001b[0m \u001b[0mplt\u001b[0m\u001b[1;33m.\u001b[0m\u001b[0mscatter\u001b[0m\u001b[1;33m(\u001b[0m\u001b[0mhiHiG\u001b[0m\u001b[1;33m,\u001b[0m\u001b[0mhiHiL\u001b[0m\u001b[1;33m,\u001b[0m \u001b[0mcolor\u001b[0m\u001b[1;33m=\u001b[0m\u001b[1;34m'g'\u001b[0m\u001b[1;33m,\u001b[0m \u001b[0malpha\u001b[0m\u001b[1;33m=\u001b[0m\u001b[1;36m0.5\u001b[0m\u001b[1;33m)\u001b[0m\u001b[1;33m\u001b[0m\u001b[1;33m\u001b[0m\u001b[0m\n",
      "\u001b[1;31mNameError\u001b[0m: name 'highLeHiGDPCountry' is not defined"
     ]
    }
   ],
   "source": [
    "hiHiC,hiHiL,hiHiG = zip(*highLeHiGDPCountry)\n",
    "hiLowC,hiLowL,hiLowG = zip(*highLeLowGDPCountry)\n",
    "lowC,lowL,lowG = zip(*lowLECountry)\n",
    "\n",
    "plt.scatter(hiHiG,hiHiL, color='g', alpha=0.5)\n",
    "plt.scatter(hiLowG,hiLowL, color='b', alpha=0.9)\n",
    "plt.scatter(lowG,lowL, color='r', alpha=0.5)\n",
    "\n",
    "plt.show()"
   ]
  },
  {
   "cell_type": "code",
   "execution_count": 4,
   "metadata": {},
   "outputs": [
    {
     "name": "stdout",
     "output_type": "stream",
     "text": [
      "test\n"
     ]
    }
   ],
   "source": []
  }
 ],
 "metadata": {
  "colab": {
   "collapsed_sections": [],
   "include_colab_link": true,
   "name": "Lab1.ipynb",
   "provenance": []
  },
  "kernelspec": {
   "display_name": "Python 3",
   "language": "python",
   "name": "python3"
  },
  "language_info": {
   "codemirror_mode": {
    "name": "ipython",
    "version": 3
   },
   "file_extension": ".py",
   "mimetype": "text/x-python",
   "name": "python",
   "nbconvert_exporter": "python",
   "pygments_lexer": "ipython3",
   "version": "3.8.3"
  }
 },
 "nbformat": 4,
 "nbformat_minor": 1
}
