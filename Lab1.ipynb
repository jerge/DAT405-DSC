{
 "cells": [
  {
   "cell_type": "markdown",
   "metadata": {
    "colab_type": "text",
    "id": "view-in-github"
   },
   "source": [
    "<a href=\"https://colab.research.google.com/github/jerge/DAT405-DSC/blob/main/Lab1.ipynb\" target=\"_parent\"><img src=\"https://colab.research.google.com/assets/colab-badge.svg\" alt=\"Open In Colab\"/></a>"
   ]
  },
  {
   "cell_type": "code",
   "execution_count": null,
   "metadata": {
    "colab": {
     "base_uri": "https://localhost:8080/"
    },
    "id": "Yz5Y3Tu_1wrL",
    "outputId": "537014f6-7a04-4c1b-b150-46f0406acdf1"
   },
   "outputs": [
    {
     "name": "stdout",
     "output_type": "stream",
     "text": [
      "Drive already mounted at /content/drive; to attempt to forcibly remount, call drive.mount(\"/content/drive\", force_remount=True).\n"
     ]
    }
   ],
   "source": [
    "from google.colab import drive\n",
    "drive.mount('/content/drive')"
   ]
  },
  {
   "cell_type": "markdown",
   "metadata": {
    "id": "vTJ9uJ4HfXdg"
   },
   "source": [
    "# Download Some Data Related to GDP per capita and life expectancy\n"
   ]
  },
  {
   "cell_type": "markdown",
   "metadata": {
    "id": "zkQqQJqNg5Nj"
   },
   "source": [
    "### Write a Python program that draws a scatter plot of GDP per capita vs life expectancy. State any assumptions and motivate decisions that you make when selecting data to be plotted, and in combining data. [1p]"
   ]
  },
  {
   "cell_type": "markdown",
   "metadata": {
    "id": "iDfaRH8VyhKQ"
   },
   "source": [
    "We decided that we only wanted to use data from one year, since subsequent years would be similar and we did not want to clutter the plot. Furthermore we assumed that each country would have a similar GDP / Life expectancy ratio and thus it would be sufficient to plot only one point per country to see a trend. Plotting the same country multiple times would make it hard to compare them to each other, which seemed to be useful in order to answer the later questions.\n",
    "\n",
    "We took data from only 2015, since we had the most data from that year."
   ]
  },
  {
   "cell_type": "code",
   "execution_count": 57,
   "metadata": {},
   "outputs": [
    {
     "data": {
      "text/html": [
       "<div>\n",
       "<style scoped>\n",
       "    .dataframe tbody tr th:only-of-type {\n",
       "        vertical-align: middle;\n",
       "    }\n",
       "\n",
       "    .dataframe tbody tr th {\n",
       "        vertical-align: top;\n",
       "    }\n",
       "\n",
       "    .dataframe thead th {\n",
       "        text-align: right;\n",
       "    }\n",
       "</style>\n",
       "<table border=\"1\" class=\"dataframe\">\n",
       "  <thead>\n",
       "    <tr style=\"text-align: right;\">\n",
       "      <th></th>\n",
       "      <th>country</th>\n",
       "      <th>year</th>\n",
       "      <th>gdp</th>\n",
       "      <th>gdp_capita</th>\n",
       "      <th>life_exp</th>\n",
       "    </tr>\n",
       "    <tr>\n",
       "      <th>Code</th>\n",
       "      <th></th>\n",
       "      <th></th>\n",
       "      <th></th>\n",
       "      <th></th>\n",
       "      <th></th>\n",
       "    </tr>\n",
       "  </thead>\n",
       "  <tbody>\n",
       "    <tr>\n",
       "      <th>ALB</th>\n",
       "      <td>Albania</td>\n",
       "      <td>2015</td>\n",
       "      <td>32826175488</td>\n",
       "      <td>10970.452245</td>\n",
       "      <td>78.025</td>\n",
       "    </tr>\n",
       "    <tr>\n",
       "      <th>DZA</th>\n",
       "      <td>Algeria</td>\n",
       "      <td>2015</td>\n",
       "      <td>481546174464</td>\n",
       "      <td>13724.723853</td>\n",
       "      <td>76.090</td>\n",
       "    </tr>\n",
       "    <tr>\n",
       "      <th>AGO</th>\n",
       "      <td>Angola</td>\n",
       "      <td>2015</td>\n",
       "      <td>154071351296</td>\n",
       "      <td>6227.664689</td>\n",
       "      <td>59.398</td>\n",
       "    </tr>\n",
       "    <tr>\n",
       "      <th>ATG</th>\n",
       "      <td>Antigua and Barbuda</td>\n",
       "      <td>2015</td>\n",
       "      <td>943836736</td>\n",
       "      <td>20154.947488</td>\n",
       "      <td>76.483</td>\n",
       "    </tr>\n",
       "    <tr>\n",
       "      <th>ARG</th>\n",
       "      <td>Argentina</td>\n",
       "      <td>2015</td>\n",
       "      <td>712662646784</td>\n",
       "      <td>19116.907915</td>\n",
       "      <td>76.068</td>\n",
       "    </tr>\n",
       "    <tr>\n",
       "      <th>...</th>\n",
       "      <td>...</td>\n",
       "      <td>...</td>\n",
       "      <td>...</td>\n",
       "      <td>...</td>\n",
       "      <td>...</td>\n",
       "    </tr>\n",
       "    <tr>\n",
       "      <th>UZB</th>\n",
       "      <td>Uzbekistan</td>\n",
       "      <td>2015</td>\n",
       "      <td>283167719424</td>\n",
       "      <td>5700.236028</td>\n",
       "      <td>70.928</td>\n",
       "    </tr>\n",
       "    <tr>\n",
       "      <th>VNM</th>\n",
       "      <td>Vietnam</td>\n",
       "      <td>2015</td>\n",
       "      <td>511142723584</td>\n",
       "      <td>5554.858056</td>\n",
       "      <td>75.110</td>\n",
       "    </tr>\n",
       "    <tr>\n",
       "      <th>YEM</th>\n",
       "      <td>Yemen</td>\n",
       "      <td>2015</td>\n",
       "      <td>67136618496</td>\n",
       "      <td>2308.636584</td>\n",
       "      <td>66.085</td>\n",
       "    </tr>\n",
       "    <tr>\n",
       "      <th>ZMB</th>\n",
       "      <td>Zambia</td>\n",
       "      <td>2015</td>\n",
       "      <td>58147405824</td>\n",
       "      <td>3627.202041</td>\n",
       "      <td>61.737</td>\n",
       "    </tr>\n",
       "    <tr>\n",
       "      <th>ZWE</th>\n",
       "      <td>Zimbabwe</td>\n",
       "      <td>2015</td>\n",
       "      <td>29150750720</td>\n",
       "      <td>1912.280261</td>\n",
       "      <td>59.534</td>\n",
       "    </tr>\n",
       "  </tbody>\n",
       "</table>\n",
       "<p>169 rows × 5 columns</p>\n",
       "</div>"
      ],
      "text/plain": [
       "                  country  year           gdp    gdp_capita  life_exp\n",
       "Code                                                                 \n",
       "ALB               Albania  2015   32826175488  10970.452245    78.025\n",
       "DZA               Algeria  2015  481546174464  13724.723853    76.090\n",
       "AGO                Angola  2015  154071351296   6227.664689    59.398\n",
       "ATG   Antigua and Barbuda  2015     943836736  20154.947488    76.483\n",
       "ARG             Argentina  2015  712662646784  19116.907915    76.068\n",
       "...                   ...   ...           ...           ...       ...\n",
       "UZB            Uzbekistan  2015  283167719424   5700.236028    70.928\n",
       "VNM               Vietnam  2015  511142723584   5554.858056    75.110\n",
       "YEM                 Yemen  2015   67136618496   2308.636584    66.085\n",
       "ZMB                Zambia  2015   58147405824   3627.202041    61.737\n",
       "ZWE              Zimbabwe  2015   29150750720   1912.280261    59.534\n",
       "\n",
       "[169 rows x 5 columns]"
      ]
     },
     "execution_count": 57,
     "metadata": {},
     "output_type": "execute_result"
    },
    {
     "data": {
      "image/png": "[encoded data removed]",
      "text/plain": [
       "<Figure size 432x288 with 1 Axes>"
      ]
     },
     "metadata": {
      "needs_background": "light"
     },
     "output_type": "display_data"
    }
   ],
   "source": [
    "import matplotlib.pyplot as plt\n",
    "import pandas as pd\n",
    "import matplotlib.pyplot as plt\n",
    "\n",
    "\n",
    "GdpPerCap = pd.read_csv(\"gdp-per-capita-worldbank.csv\")\n",
    "LifeExpect = pd.read_csv(\"life-expectancy.csv\")\n",
    "NatGdp = pd.read_csv(\"national-gdp.csv\")\n",
    "\n",
    "countries = NatGdp.merge(GdpPerCap, on=[\"Entity\", \"Code\", \"Year\"]).merge(LifeExpect, on=[\"Entity\", \"Code\", \"Year\"])\n",
    "countries = countries[countries.Year == 2015]\n",
    "\n",
    "countries = countries.set_index(\"Code\")\n",
    "countries.columns= [\"country\",\"year\",\"gdp\",\"gdp_capita\", \"life_exp\"]\n",
    "\n",
    "countries.plot.scatter(x=\"gdp_capita\",y=\"life_exp\",logx=True, alpha=0.7)\n",
    "\n",
    "countries"
   ]
  },
  {
   "cell_type": "markdown",
   "metadata": {
    "id": "fV7qG5HGhIAV"
   },
   "source": [
    "### Consider whether the results obtained seem reasonable and discuss what might be the explanation for the results you obtained. [1p]\n"
   ]
  },
  {
   "cell_type": "markdown",
   "metadata": {
    "id": "Pq2gojJshLGs"
   },
   "source": [
    "The trend seems to be a logarithmic curve with a few outliers. In a richer country the life expectancy increases, which makes sense. If we assume a richer country has a higher GDP per Capita the people in that country should be able to afford all their basic needs and as such avoid starvation and health deficits related to bad hygien and similar things. Further wealth contributes to health care and medicine, but after a certain point there is a diminishing return on how much wealth impacts the life expectancy.\n",
    "\n",
    "Almost all outliers are a result of the country being pretty poor and then finding oil, resulting in a huge boost in the economy, which has not had the time needed to positively affect the public health. Furthermore the wealth is probably not distributed properly, since the people owning oil is probably just a small percentage of the population."
   ]
  },
  {
   "cell_type": "markdown",
   "metadata": {
    "id": "WzAZvJAChOWF"
   },
   "source": [
    "### Data Cleaning and Why?\n",
    "* Om inte data från 2015\n",
    "* Länder som inte har data punkter för alla columner\n",
    "* Medelvärdes entries, ex. World fanns med\n"
   ]
  },
  {
   "cell_type": "code",
   "execution_count": 11,
   "metadata": {
    "colab": {
     "base_uri": "https://localhost:8080/"
    },
    "id": "zAYO0E048ivK",
    "outputId": "d1ecca22-af95-4baf-b533-a73123650913"
   },
   "outputs": [
    {
     "data": {
      "text/html": [
       "<div>\n",
       "<style scoped>\n",
       "    .dataframe tbody tr th:only-of-type {\n",
       "        vertical-align: middle;\n",
       "    }\n",
       "\n",
       "    .dataframe tbody tr th {\n",
       "        vertical-align: top;\n",
       "    }\n",
       "\n",
       "    .dataframe thead th {\n",
       "        text-align: right;\n",
       "    }\n",
       "</style>\n",
       "<table border=\"1\" class=\"dataframe\">\n",
       "  <thead>\n",
       "    <tr style=\"text-align: right;\">\n",
       "      <th></th>\n",
       "      <th>year</th>\n",
       "      <th>gdp</th>\n",
       "      <th>gdp_capita</th>\n",
       "      <th>life_exp</th>\n",
       "    </tr>\n",
       "  </thead>\n",
       "  <tbody>\n",
       "    <tr>\n",
       "      <th>count</th>\n",
       "      <td>169.0</td>\n",
       "      <td>1.690000e+02</td>\n",
       "      <td>169.000000</td>\n",
       "      <td>169.000000</td>\n",
       "    </tr>\n",
       "    <tr>\n",
       "      <th>mean</th>\n",
       "      <td>2015.0</td>\n",
       "      <td>6.111879e+11</td>\n",
       "      <td>19302.840668</td>\n",
       "      <td>72.017568</td>\n",
       "    </tr>\n",
       "    <tr>\n",
       "      <th>std</th>\n",
       "      <td>0.0</td>\n",
       "      <td>2.013399e+12</td>\n",
       "      <td>20548.162315</td>\n",
       "      <td>8.031316</td>\n",
       "    </tr>\n",
       "    <tr>\n",
       "      <th>min</th>\n",
       "      <td>2015.0</td>\n",
       "      <td>5.792709e+08</td>\n",
       "      <td>621.569843</td>\n",
       "      <td>50.881000</td>\n",
       "    </tr>\n",
       "    <tr>\n",
       "      <th>25%</th>\n",
       "      <td>2015.0</td>\n",
       "      <td>2.312296e+10</td>\n",
       "      <td>4713.499587</td>\n",
       "      <td>66.577000</td>\n",
       "    </tr>\n",
       "    <tr>\n",
       "      <th>50%</th>\n",
       "      <td>2015.0</td>\n",
       "      <td>7.244055e+10</td>\n",
       "      <td>12759.816602</td>\n",
       "      <td>74.078000</td>\n",
       "    </tr>\n",
       "    <tr>\n",
       "      <th>75%</th>\n",
       "      <td>2015.0</td>\n",
       "      <td>3.806535e+11</td>\n",
       "      <td>27045.713019</td>\n",
       "      <td>77.691000</td>\n",
       "    </tr>\n",
       "    <tr>\n",
       "      <th>max</th>\n",
       "      <td>2015.0</td>\n",
       "      <td>1.712686e+13</td>\n",
       "      <td>119749.428536</td>\n",
       "      <td>84.043000</td>\n",
       "    </tr>\n",
       "  </tbody>\n",
       "</table>\n",
       "</div>"
      ],
      "text/plain": [
       "         year           gdp     gdp_capita    life_exp\n",
       "count   169.0  1.690000e+02     169.000000  169.000000\n",
       "mean   2015.0  6.111879e+11   19302.840668   72.017568\n",
       "std       0.0  2.013399e+12   20548.162315    8.031316\n",
       "min    2015.0  5.792709e+08     621.569843   50.881000\n",
       "25%    2015.0  2.312296e+10    4713.499587   66.577000\n",
       "50%    2015.0  7.244055e+10   12759.816602   74.078000\n",
       "75%    2015.0  3.806535e+11   27045.713019   77.691000\n",
       "max    2015.0  1.712686e+13  119749.428536   84.043000"
      ]
     },
     "execution_count": 11,
     "metadata": {},
     "output_type": "execute_result"
    },
    {
     "data": {
      "image/png": "[encoded data removed]",
      "text/plain": [
       "<Figure size 432x288 with 1 Axes>"
      ]
     },
     "metadata": {
      "needs_background": "light"
     },
     "output_type": "display_data"
    }
   ],
   "source": [
    "#d\n",
    "stdevs = countries.std(axis = 0)\n",
    "means = countries.mean(axis = 0)\n",
    "highLifeExp = countries[countries.life_exp > stdevs.life_exp + means.life_exp]\n",
    "lowLifeExp = countries[countries.life_exp <= stdevs.life_exp + means.life_exp]\n",
    "\n",
    "fig, ax = plt.subplots()\n",
    "highLifeExp.plot.scatter(x=\"gdp\",y=\"life_exp\", alpha=0.7,logx=True, ax=ax, color='g')\n",
    "lowLifeExp.plot.scatter(x=\"gdp\",y=\"life_exp\",alpha=0.7,logx=True, ax=ax, color='r')\n",
    "\n",
    "countries.describe()"
   ]
  },
  {
   "cell_type": "code",
   "execution_count": 30,
   "metadata": {},
   "outputs": [
    {
     "data": {
      "text/html": [
       "<div>\n",
       "<style scoped>\n",
       "    .dataframe tbody tr th:only-of-type {\n",
       "        vertical-align: middle;\n",
       "    }\n",
       "\n",
       "    .dataframe tbody tr th {\n",
       "        vertical-align: top;\n",
       "    }\n",
       "\n",
       "    .dataframe thead th {\n",
       "        text-align: right;\n",
       "    }\n",
       "</style>\n",
       "<table border=\"1\" class=\"dataframe\">\n",
       "  <thead>\n",
       "    <tr style=\"text-align: right;\">\n",
       "      <th></th>\n",
       "      <th>country</th>\n",
       "      <th>year</th>\n",
       "      <th>gdp</th>\n",
       "      <th>gdp_capita</th>\n",
       "      <th>life_exp</th>\n",
       "    </tr>\n",
       "    <tr>\n",
       "      <th>Code</th>\n",
       "      <th></th>\n",
       "      <th></th>\n",
       "      <th></th>\n",
       "      <th></th>\n",
       "      <th></th>\n",
       "    </tr>\n",
       "  </thead>\n",
       "  <tbody>\n",
       "    <tr>\n",
       "      <th>BRB</th>\n",
       "      <td>Barbados</td>\n",
       "      <td>2015</td>\n",
       "      <td>2807180544</td>\n",
       "      <td>16458.103529</td>\n",
       "      <td>78.801</td>\n",
       "    </tr>\n",
       "    <tr>\n",
       "      <th>CYP</th>\n",
       "      <td>Cyprus</td>\n",
       "      <td>2015</td>\n",
       "      <td>23035398144</td>\n",
       "      <td>30549.100970</td>\n",
       "      <td>80.350</td>\n",
       "    </tr>\n",
       "    <tr>\n",
       "      <th>ISL</th>\n",
       "      <td>Iceland</td>\n",
       "      <td>2015</td>\n",
       "      <td>13045315584</td>\n",
       "      <td>43048.125145</td>\n",
       "      <td>82.481</td>\n",
       "    </tr>\n",
       "    <tr>\n",
       "      <th>MLT</th>\n",
       "      <td>Malta</td>\n",
       "      <td>2015</td>\n",
       "      <td>11749704704</td>\n",
       "      <td>34087.081514</td>\n",
       "      <td>81.896</td>\n",
       "    </tr>\n",
       "  </tbody>\n",
       "</table>\n",
       "</div>"
      ],
      "text/plain": [
       "       country  year          gdp    gdp_capita  life_exp\n",
       "Code                                                     \n",
       "BRB   Barbados  2015   2807180544  16458.103529    78.801\n",
       "CYP     Cyprus  2015  23035398144  30549.100970    80.350\n",
       "ISL    Iceland  2015  13045315584  43048.125145    82.481\n",
       "MLT      Malta  2015  11749704704  34087.081514    81.896"
      ]
     },
     "execution_count": 30,
     "metadata": {},
     "output_type": "execute_result"
    },
    {
     "data": {
      "image/png": "[encoded data removed]",
      "text/plain": [
       "<Figure size 432x288 with 1 Axes>"
      ]
     },
     "metadata": {
      "needs_background": "light"
     },
     "output_type": "display_data"
    }
   ],
   "source": [
    "#e\n",
    "fig, ax = plt.subplots()\n",
    "highLifeExp = countries[countries.life_exp > countries.life_exp.quantile(0.75)]\n",
    "lowLifeExp = countries[countries.life_exp <= countries.life_exp.quantile(0.75)]\n",
    "\n",
    "highLifeExpLowGDP = highLifeExp[highLifeExp.gdp < countries.gdp.quantile(0.25)]\n",
    "highLifeExpLowGDP #Finns inga länder som har GDP under mean och hög life exp\n",
    "\n",
    "highLifeExp.plot.scatter(x=\"gdp\",y=\"life_exp\", alpha=0.7, logx=True,ax=ax, color='g')\n",
    "lowLifeExp.plot.scatter(x=\"gdp\",y=\"life_exp\",alpha=0.7, logx=True,ax=ax, color='r')\n",
    "highLifeExpLowGDP.plot.scatter(x=\"gdp\",y=\"life_exp\",alpha=0.7, logx=True,ax=ax, color='b')\n",
    "\n",
    "highLifeExpLowGDP"
   ]
  },
  {
   "cell_type": "markdown",
   "metadata": {},
   "source": [
    "#f Se graf finns inte mycket korrelation"
   ]
  },
  {
   "cell_type": "code",
   "execution_count": 31,
   "metadata": {},
   "outputs": [
    {
     "data": {
      "text/html": [
       "<div>\n",
       "<style scoped>\n",
       "    .dataframe tbody tr th:only-of-type {\n",
       "        vertical-align: middle;\n",
       "    }\n",
       "\n",
       "    .dataframe tbody tr th {\n",
       "        vertical-align: top;\n",
       "    }\n",
       "\n",
       "    .dataframe thead th {\n",
       "        text-align: right;\n",
       "    }\n",
       "</style>\n",
       "<table border=\"1\" class=\"dataframe\">\n",
       "  <thead>\n",
       "    <tr style=\"text-align: right;\">\n",
       "      <th></th>\n",
       "      <th>country</th>\n",
       "      <th>year</th>\n",
       "      <th>gdp</th>\n",
       "      <th>gdp_capita</th>\n",
       "      <th>life_exp</th>\n",
       "    </tr>\n",
       "    <tr>\n",
       "      <th>Code</th>\n",
       "      <th></th>\n",
       "      <th></th>\n",
       "      <th></th>\n",
       "      <th></th>\n",
       "      <th></th>\n",
       "    </tr>\n",
       "  </thead>\n",
       "  <tbody>\n",
       "  </tbody>\n",
       "</table>\n",
       "</div>"
      ],
      "text/plain": [
       "Empty DataFrame\n",
       "Columns: [country, year, gdp, gdp_capita, life_exp]\n",
       "Index: []"
      ]
     },
     "execution_count": 31,
     "metadata": {},
     "output_type": "execute_result"
    },
    {
     "data": {
      "image/png": "[encoded data removed]",
      "text/plain": [
       "<Figure size 432x288 with 1 Axes>"
      ]
     },
     "metadata": {
      "needs_background": "light"
     },
     "output_type": "display_data"
    }
   ],
   "source": [
    "fig, ax = plt.subplots()\n",
    "highLifeExp = countries[countries.life_exp > countries.life_exp.quantile(0.75)]\n",
    "lowLifeExp = countries[countries.life_exp <= countries.life_exp.quantile(0.75)]\n",
    "\n",
    "highLifeExpLowGDPcap = highLifeExp[highLifeExp.gdp_capita < countries.gdp_capita.quantile(0.25)]\n",
    "\n",
    "highLifeExp.plot.scatter(x=\"gdp_capita\",y=\"life_exp\", alpha=0.7, logx=True,ax=ax, color='g')\n",
    "lowLifeExp.plot.scatter(x=\"gdp_capita\",y=\"life_exp\",alpha=0.7, logx=True,ax=ax, color='r')\n",
    "highLifeExpLowGDP.plot.scatter(x=\"gdp_capita\",y=\"life_exp\",alpha=0.7, logx=True,ax=ax, color='b')\n",
    "\n",
    "highLifeExpLowGDPcap"
   ]
  },
  {
   "cell_type": "markdown",
   "metadata": {},
   "source": [
    "#g ser att de länderna bara var små -> låg gdp men inte låg gdp per capuita, kan se korrelation mellan gdp/cap och life exp med vissa outliers, troligtvis oljeländer "
   ]
  },
  {
   "cell_type": "code",
   "execution_count": 32,
   "metadata": {},
   "outputs": [],
   "source": [
    "#happiness - gdp/cpa mot life exp happiness som färg gradient\n"
   ]
  },
  {
   "cell_type": "code",
   "execution_count": 88,
   "metadata": {},
   "outputs": [
    {
     "data": {
      "text/plain": [
       "<matplotlib.axes._subplots.AxesSubplot at 0x25ba5ea3610>"
      ]
     },
     "execution_count": 88,
     "metadata": {},
     "output_type": "execute_result"
    },
    {
     "data": {
      "image/png": "[encoded data removed]",
      "text/plain": [
       "<Figure size 432x288 with 2 Axes>"
      ]
     },
     "metadata": {
      "needs_background": "light"
     },
     "output_type": "display_data"
    }
   ],
   "source": [
    "#Kollar 2012 mest data då, income ineq limiting\n",
    "from sklearn import preprocessing\n",
    "from math import log\n",
    "\n",
    "incomeInEq = pd.read_csv(\"economic-inequality-gini-index.csv\")\n",
    "corruption = pd.read_csv(\"TI-corruption-perception-index.csv\")\n",
    "gdpCap = pd.read_csv(\"gdp-per-capita-worldbank.csv\")\n",
    "satisfaction = pd.read_csv(\"happiness-cantril-ladder.csv\")\n",
    "\n",
    "countries = incomeInEq.merge(corruption).merge(gdpCap).merge(satisfaction).set_index(\"Code\")\n",
    "countries.columns= [\"country\",\"year\",\"gini\",\"corruption\",\"gdp_capita\",\"satisfaction\"]\n",
    "\n",
    "countries = countries[countries.year ==2012]\n",
    "\n",
    "min_max_scaler = preprocessing.MinMaxScaler()\n",
    "x = countries[['gdp_capita']].values.astype(float)\n",
    "x_scaled = min_max_scaler.fit_transform(x)\n",
    "\n",
    "countries.gdp_capita = (x_scaled+0.01)*300\n",
    "\n",
    "countries.corruption = -countries.corruption\n",
    "\n",
    "countries.plot.scatter(x=\"corruption\", y=\"gini\", s=countries.gdp_capita,c=countries.satisfaction,cmap=\"RdYlGn\", alpha=0.8)"
   ]
  }
 ],
 "metadata": {
  "colab": {
   "collapsed_sections": [],
   "include_colab_link": true,
   "name": "Lab1.ipynb",
   "provenance": []
  },
  "kernelspec": {
   "display_name": "Python 3",
   "language": "python",
   "name": "python3"
  },
  "language_info": {
   "codemirror_mode": {
    "name": "ipython",
    "version": 3
   },
   "file_extension": ".py",
   "mimetype": "text/x-python",
   "name": "python",
   "nbconvert_exporter": "python",
   "pygments_lexer": "ipython3",
   "version": "3.8.3"
  }
 },
 "nbformat": 4,
 "nbformat_minor": 1
}
