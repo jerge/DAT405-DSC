{
  "nbformat": 4,
  "nbformat_minor": 0,
  "metadata": {
    "colab": {
      "name": "Lab1.ipynb",
      "provenance": [],
      "collapsed_sections": [],
      "include_colab_link": true
    },
    "kernelspec": {
      "name": "python3",
      "display_name": "Python 3"
    }
  },
  "cells": [
    {
      "cell_type": "markdown",
      "metadata": {
        "id": "view-in-github",
        "colab_type": "text"
      },
      "source": [
        "<a href=\"https://colab.research.google.com/github/jerge/DAT405-DSC/blob/main/Lab1.ipynb\" target=\"_parent\"><img src=\"https://colab.research.google.com/assets/colab-badge.svg\" alt=\"Open In Colab\"/></a>"
      ]
    },
    {
      "cell_type": "markdown",
      "metadata": {
        "id": "vTJ9uJ4HfXdg"
      },
      "source": [
        "# Download Some Data Related to GDP per capita and life expectancy\n"
      ]
    },
    {
      "cell_type": "markdown",
      "metadata": {
        "id": "zkQqQJqNg5Nj"
      },
      "source": [
        "### Write a Python program that draws a scatter plot of GDP per capita vs life expectancy. State any assumptions and motivate decisions that you make when selecting data to be plotted, and in combining data. [1p]"
      ]
    },
    {
      "cell_type": "markdown",
      "metadata": {
        "id": "iDfaRH8VyhKQ"
      },
      "source": [
        "We decided that we only wanted to use data from one year, since subsequent years would be similar and we did not want to clutter the plot. Furthermore we assumed that each country would have a similar GDP / Life expectancy ratio and thus it would be sufficient to plot only one point per country to see a trend. Plotting the same country multiple times would make it hard to compare them to each other, which seemed to be useful in order to answer the later questions.\n",
        "\n",
        "We took data from only 2015, since we had the most data from that year."
      ]
    },
    {
      "cell_type": "code",
      "metadata": {
        "id": "6Ui3DlD7hHYT",
        "outputId": "9fe70f0b-c39c-476d-f753-85e611077387",
        "colab": {
          "base_uri": "https://localhost:8080/",
          "height": 304
        }
      },
      "source": [
        "import matplotlib.pyplot as plt\n",
        "import csv\n",
        "\n",
        "years = ['2015']\n",
        "gdpList = []\n",
        "lifeExpectancyList = []\n",
        "\n",
        "with open(\"gdp-per-capita-worldbank.csv\", 'r') as csvfile:\n",
        "  spamreader = csv.reader(csvfile)\n",
        "  for row in spamreader:\n",
        "    if str(row[2]) in years:\n",
        "      gdpList.append([row[0], float(row[3])])\n",
        "\n",
        "countriesInGdp = [i[0] for i in gdpList]\n",
        "\n",
        "with open(\"life-expectancy.csv\", 'r') as csvfile:\n",
        "  spamreader = csv.reader(csvfile)\n",
        "  for row in spamreader:\n",
        "    if str(row[2]) in years and row[0] in countries:\n",
        "      lifeExpectancyList.append([row[0], float(row[3])])\n",
        "\n",
        "countriesInLE = [i[0] for i in lifeExpectancyList]\n",
        "\n",
        "i = 0;\n",
        "for elem in gdpList:\n",
        "  if elem[0] in countriesInLE:\n",
        "    lifeExpectancyList[i].append(elem[1])\n",
        "    i += 1\n",
        "\n",
        "c,l,g = zip(*lifeExpectancyList)\n",
        "\n",
        "plt.scatter(g,l)\n",
        "\n",
        "#for i, txt in enumerate(c):\n",
        "#  plt.annotate(txt, (g[i], l[i]))\n",
        "\n",
        "plt.show()"
      ],
      "execution_count": null,
      "outputs": [
        {
          "output_type": "error",
          "ename": "FileNotFoundError",
          "evalue": "ignored",
          "traceback": [
            "\u001b[0;31m---------------------------------------------------------------------------\u001b[0m",
            "\u001b[0;31mFileNotFoundError\u001b[0m                         Traceback (most recent call last)",
            "\u001b[0;32m<ipython-input-3-0d2dce96ffc8>\u001b[0m in \u001b[0;36m<module>\u001b[0;34m()\u001b[0m\n\u001b[1;32m      6\u001b[0m \u001b[0mlifeExpectancyList\u001b[0m \u001b[0;34m=\u001b[0m \u001b[0;34m[\u001b[0m\u001b[0;34m]\u001b[0m\u001b[0;34m\u001b[0m\u001b[0;34m\u001b[0m\u001b[0m\n\u001b[1;32m      7\u001b[0m \u001b[0;34m\u001b[0m\u001b[0m\n\u001b[0;32m----> 8\u001b[0;31m \u001b[0;32mwith\u001b[0m \u001b[0mopen\u001b[0m\u001b[0;34m(\u001b[0m\u001b[0;34m\"gdp-per-capita-worldbank.csv\"\u001b[0m\u001b[0;34m,\u001b[0m \u001b[0;34m'r'\u001b[0m\u001b[0;34m)\u001b[0m \u001b[0;32mas\u001b[0m \u001b[0mcsvfile\u001b[0m\u001b[0;34m:\u001b[0m\u001b[0;34m\u001b[0m\u001b[0;34m\u001b[0m\u001b[0m\n\u001b[0m\u001b[1;32m      9\u001b[0m   \u001b[0mspamreader\u001b[0m \u001b[0;34m=\u001b[0m \u001b[0mcsv\u001b[0m\u001b[0;34m.\u001b[0m\u001b[0mreader\u001b[0m\u001b[0;34m(\u001b[0m\u001b[0mcsvfile\u001b[0m\u001b[0;34m)\u001b[0m\u001b[0;34m\u001b[0m\u001b[0;34m\u001b[0m\u001b[0m\n\u001b[1;32m     10\u001b[0m   \u001b[0;32mfor\u001b[0m \u001b[0mrow\u001b[0m \u001b[0;32min\u001b[0m \u001b[0mspamreader\u001b[0m\u001b[0;34m:\u001b[0m\u001b[0;34m\u001b[0m\u001b[0;34m\u001b[0m\u001b[0m\n",
            "\u001b[0;31mFileNotFoundError\u001b[0m: [Errno 2] No such file or directory: 'gdp-per-capita-worldbank.csv'"
          ]
        }
      ]
    },
    {
      "cell_type": "markdown",
      "metadata": {
        "id": "fV7qG5HGhIAV"
      },
      "source": [
        "### Consider whether the results obtained seem reasonable and discuss what might be the explanation for the results you obtained. [1p]\n"
      ]
    },
    {
      "cell_type": "markdown",
      "metadata": {
        "id": "Pq2gojJshLGs"
      },
      "source": [
        ""
      ]
    },
    {
      "cell_type": "markdown",
      "metadata": {
        "id": "WzAZvJAChOWF"
      },
      "source": [
        "### Data Cleaning and Why?"
      ]
    }
  ]
}