{
 "cells": [
  {
   "cell_type": "markdown",
   "metadata": {
    "colab_type": "text",
    "id": "view-in-github"
   },
   "source": [
    "<a href=\"https://colab.research.google.com/github/jerge/DAT405-DSC/blob/main/Lab1.ipynb\" target=\"_parent\"><img src=\"https://colab.research.google.com/assets/colab-badge.svg\" alt=\"Open In Colab\"/></a>"
   ]
  },
  {
   "cell_type": "code",
   "execution_count": null,
   "metadata": {
    "colab": {
     "base_uri": "https://localhost:8080/"
    },
    "id": "Yz5Y3Tu_1wrL",
    "outputId": "537014f6-7a04-4c1b-b150-46f0406acdf1"
   },
   "outputs": [
    {
     "name": "stdout",
     "output_type": "stream",
     "text": [
      "Drive already mounted at /content/drive; to attempt to forcibly remount, call drive.mount(\"/content/drive\", force_remount=True).\n"
     ]
    }
   ],
   "source": [
    "from google.colab import drive\n",
    "drive.mount('/content/drive')"
   ]
  },
  {
   "cell_type": "markdown",
   "metadata": {
    "id": "vTJ9uJ4HfXdg"
   },
   "source": [
    "# Download Some Data Related to GDP per capita and life expectancy\n"
   ]
  },
  {
   "cell_type": "markdown",
   "metadata": {
    "id": "zkQqQJqNg5Nj"
   },
   "source": [
    "### Write a Python program that draws a scatter plot of GDP per capita vs life expectancy. State any assumptions and motivate decisions that you make when selecting data to be plotted, and in combining data. [1p]"
   ]
  },
  {
   "cell_type": "markdown",
   "metadata": {
    "id": "iDfaRH8VyhKQ"
   },
   "source": [
    "We decided that we only wanted to use data from one year, since subsequent years would be similar and we did not want to clutter the plot. Furthermore we assumed that each country would have a similar GDP / Life expectancy ratio and thus it would be sufficient to plot only one point per country to see a trend. Plotting the same country multiple times would make it hard to compare them to each other, which seemed to be useful in order to answer the later questions.\n",
    "\n",
    "We took data from only 2015, since we had the most data from that year."
   ]
  },
  {
   "cell_type": "code",
   "execution_count": 1,
   "metadata": {
    "colab": {
     "base_uri": "https://localhost:8080/",
     "height": 265
    },
    "id": "6Ui3DlD7hHYT",
    "outputId": "ff4e647c-9730-4fb3-91ab-2c74b4d6d8ee"
   },
   "outputs": [
    {
     "ename": "FileNotFoundError",
     "evalue": "[Errno 2] No such file or directory: '/content/drive/My Drive/DAT405/gdp-per-capita-worldbank.csv'",
     "output_type": "error",
     "traceback": [
      "\u001b[1;31m---------------------------------------------------------------------------\u001b[0m",
      "\u001b[1;31mFileNotFoundError\u001b[0m                         Traceback (most recent call last)",
      "\u001b[1;32m<ipython-input-1-a305e5b87e30>\u001b[0m in \u001b[0;36m<module>\u001b[1;34m\u001b[0m\n\u001b[0;32m      6\u001b[0m \u001b[0mlifeExpectancyList\u001b[0m \u001b[1;33m=\u001b[0m \u001b[1;33m[\u001b[0m\u001b[1;33m]\u001b[0m\u001b[1;33m\u001b[0m\u001b[1;33m\u001b[0m\u001b[0m\n\u001b[0;32m      7\u001b[0m \u001b[1;33m\u001b[0m\u001b[0m\n\u001b[1;32m----> 8\u001b[1;33m \u001b[1;32mwith\u001b[0m \u001b[0mopen\u001b[0m\u001b[1;33m(\u001b[0m\u001b[1;34m\"/content/drive/My Drive/DAT405/gdp-per-capita-worldbank.csv\"\u001b[0m\u001b[1;33m,\u001b[0m \u001b[1;34m'r'\u001b[0m\u001b[1;33m)\u001b[0m \u001b[1;32mas\u001b[0m \u001b[0mcsvfile\u001b[0m\u001b[1;33m:\u001b[0m\u001b[1;33m\u001b[0m\u001b[1;33m\u001b[0m\u001b[0m\n\u001b[0m\u001b[0;32m      9\u001b[0m   \u001b[0mspamreader\u001b[0m \u001b[1;33m=\u001b[0m \u001b[0mcsv\u001b[0m\u001b[1;33m.\u001b[0m\u001b[0mreader\u001b[0m\u001b[1;33m(\u001b[0m\u001b[0mcsvfile\u001b[0m\u001b[1;33m)\u001b[0m\u001b[1;33m\u001b[0m\u001b[1;33m\u001b[0m\u001b[0m\n\u001b[0;32m     10\u001b[0m   \u001b[1;32mfor\u001b[0m \u001b[0mrow\u001b[0m \u001b[1;32min\u001b[0m \u001b[0mspamreader\u001b[0m\u001b[1;33m:\u001b[0m\u001b[1;33m\u001b[0m\u001b[1;33m\u001b[0m\u001b[0m\n",
      "\u001b[1;31mFileNotFoundError\u001b[0m: [Errno 2] No such file or directory: '/content/drive/My Drive/DAT405/gdp-per-capita-worldbank.csv'"
     ]
    }
   ],
   "source": [
    "import matplotlib.pyplot as plt\n",
    "import csv\n",
    "\n",
    "years = ['2015']\n",
    "gdpList = []\n",
    "lifeExpectancyList = []\n",
    "\n",
    "with open(\"/content/drive/My Drive/DAT405/gdp-per-capita-worldbank.csv\", 'r') as csvfile:\n",
    "  spamreader = csv.reader(csvfile)\n",
    "  for row in spamreader:\n",
    "    if str(row[2]) in years:\n",
    "      gdpList.append([row[0], float(row[3])])\n",
    "\n",
    "countriesInGdp = [i[0] for i in gdpList]\n",
    "\n",
    "with open(\"/content/drive/My Drive/DAT405/life-expectancy.csv\", 'r') as csvfile:\n",
    "  spamreader = csv.reader(csvfile)\n",
    "  for row in spamreader:\n",
    "    if str(row[2]) in years and row[0] in countriesInGdp:\n",
    "      lifeExpectancyList.append([row[0], float(row[3])])\n",
    "\n",
    "countriesInLE = [i[0] for i in lifeExpectancyList]\n",
    "\n",
    "i = 0;\n",
    "for elem in gdpList:\n",
    "  if elem[0] in countriesInLE:\n",
    "    lifeExpectancyList[i].append(elem[1])\n",
    "    i += 1\n",
    "\n",
    "c,l,g = zip(*lifeExpectancyList)\n",
    "\n",
    "plt.scatter(g,l)\n",
    "\n",
    "#for i, txt in enumerate(c):\n",
    "#  plt.annotate(txt, (g[i], l[i]))\n",
    "\n",
    "plt.show()"
   ]
  },
  {
   "cell_type": "markdown",
   "metadata": {
    "id": "fV7qG5HGhIAV"
   },
   "source": [
    "### Consider whether the results obtained seem reasonable and discuss what might be the explanation for the results you obtained. [1p]\n"
   ]
  },
  {
   "cell_type": "markdown",
   "metadata": {
    "id": "Pq2gojJshLGs"
   },
   "source": [
    "The trend seems to be a logarithmic curve with a few outliers. In a richer country the life expectancy increases, which makes sense. If we assume a richer country has a higher GDP per Capita the people in that country should be able to afford all their basic needs and as such avoid starvation and health deficits related to bad hygien and similar things. Further wealth contributes to health care and medicine, but after a certain point there is a diminishing return on how much wealth impacts the life expectancy.\n",
    "\n",
    "Almost all outliers are a result of the country being pretty poor and then finding oil, resulting in a huge boost in the economy, which has not had the time needed to positively affect the public health. Furthermore the wealth is probably not distributed properly, since the people owning oil is probably just a small percentage of the population."
   ]
  },
  {
   "cell_type": "markdown",
   "metadata": {
    "id": "WzAZvJAChOWF"
   },
   "source": [
    "### Data Cleaning and Why?"
   ]
  },
  {
   "cell_type": "code",
   "execution_count": 13,
   "metadata": {
    "colab": {
     "base_uri": "https://localhost:8080/"
    },
    "id": "zAYO0E048ivK",
    "outputId": "d1ecca22-af95-4baf-b533-a73123650913"
   },
   "outputs": [
    {
     "name": "stdout",
     "output_type": "stream",
     "text": [
      "[('Australia', 82.794, 43923.2582693466), ('Austria', 81.182, 44304.967756787), ('Belgium', 80.969, 41708.2123401731), ('Canada', 82.026, 43149.4758370305), ('Cyprus', 80.35, 30549.1009696787), ('Denmark', 80.475, 45458.697148831), ('Finland', 81.196, 38941.7636030551), ('France', 82.224, 37766.3741116872), ('Germany', 80.77, 43937.9471317278), ('Greece', 81.548, 24170.3018369872), ('Hong Kong', 84.043, 53591.835819824), ('Iceland', 82.481, 43048.1251452787), ('Ireland', 81.344, 60818.0462398536), ('Israel', 82.34, 32024.3527705394), ('Italy', 82.828, 34302.0374026544), ('Japan', 83.879, 37882.980624441), ('Luxembourg', 81.636, 94088.5922250508), ('Macao', 83.707, 100444.593628176), ('Malta', 81.896, 34087.0815138045), ('Netherlands', 81.715, 46494.3642578078), ('New Zealand', 81.713, 35309.8237244851), ('Norway', 81.912, 64008.2868303461), ('Portugal', 81.224, 26607.8331233896), ('Qatar', 79.758, 119749.428536152), ('San Marino', 84.375, 56372.3624231511), ('Singapore', 82.877, 81741.096935529), ('Slovenia', 80.673, 29037.7416756681), ('South Korea', 82.1, 34177.6544703221), ('Spain', 82.981, 32291.1551993266), ('Sweden', 82.251, 45679.2779973863), ('Switzerland', 83.142, 57264.1573970635), ('United Kingdom', 81.052, 38839.1669568199)]\n"
     ]
    }
   ],
   "source": [
    "import statistics\n",
    "\n",
    "mean = statistics.mean(l)\n",
    "stDev = statistics.stdev(l)\n",
    "\n",
    "highLECountry = []\n",
    "lowLECountry = []\n",
    "for (country,le,gdp) in lifeExpectancyList:\n",
    "  if le > mean + stDev:\n",
    "    highLECountry.append((country,le,gdp))\n",
    "  else:\n",
    "    lowLECountry.append((country,le,gdp))\n",
    "print(highLECountry)"
   ]
  },
  {
   "cell_type": "code",
   "execution_count": 15,
   "metadata": {
    "colab": {
     "base_uri": "https://localhost:8080/",
     "height": 265
    },
    "id": "6TWn9iV6-CbD",
    "outputId": "5d7d2436-53f3-4c85-d92a-5b388d055127"
   },
   "outputs": [
    {
     "data": {
      "image/png": "[encoded data removed]",
      "text/plain": [
       "<Figure size 432x288 with 1 Axes>"
      ]
     },
     "metadata": {
      "needs_background": "light",
      "tags": []
     },
     "output_type": "display_data"
    }
   ],
   "source": [
    "hiC,hiL,hiG = zip(*highLECountry)\n",
    "lowC,lowL,lowG = zip(*lowLECountry)\n",
    "\n",
    "plt.scatter(hiG,hiL, color='g', alpha=0.5)\n",
    "plt.scatter(lowG,lowL, color='r', alpha=0.5)\n",
    "\n",
    "plt.show()"
   ]
  },
  {
   "cell_type": "markdown",
   "metadata": {
    "id": "kT9eK983__a1"
   },
   "source": [
    "Antar high lifexpecetency som en std från mean\n",
    " \n",
    "Antar low gpd som en std från mean på höga \n"
   ]
  },
  {
   "cell_type": "code",
   "execution_count": 26,
   "metadata": {
    "colab": {
     "base_uri": "https://localhost:8080/"
    },
    "id": "CXZAb093AVW7",
    "outputId": "ec91565e-2d64-479b-8f18-3cb3d07c182b"
   },
   "outputs": [
    {
     "name": "stdout",
     "output_type": "stream",
     "text": [
      "[('Greece', 81.548, 24170.3018369872)]\n"
     ]
    }
   ],
   "source": [
    "meanHiGDP = statistics.mean(hiG)\n",
    "stdHiGDP = statistics.stdev(hiG)\n",
    "\n",
    "highLeHiGDPCountry = []\n",
    "highLeLowGDPCountry = []\n",
    "\n",
    "for (country,le,gdp) in lifeExpectancyList:\n",
    "  if le > mean + stDev and gdp < meanHiGDP - stdHiGDP:\n",
    "    highLeLowGDPCountry.append((country,le,gdp))\n",
    "  elif le > mean + stDev:\n",
    "    highLeHiGDPCountry.append((country,le,gdp))\n",
    "\n",
    "print(highLeLowGDPCountry)"
   ]
  },
  {
   "cell_type": "code",
   "execution_count": 2,
   "metadata": {
    "colab": {
     "base_uri": "https://localhost:8080/",
     "height": 265
    },
    "id": "MAt0JzUfCAlY",
    "outputId": "404ccbc4-d71f-4218-a9a1-5ec750ef619b"
   },
   "outputs": [
    {
     "ename": "NameError",
     "evalue": "name 'highLeHiGDPCountry' is not defined",
     "output_type": "error",
     "traceback": [
      "\u001b[1;31m---------------------------------------------------------------------------\u001b[0m",
      "\u001b[1;31mNameError\u001b[0m                                 Traceback (most recent call last)",
      "\u001b[1;32m<ipython-input-2-1230cf5c524e>\u001b[0m in \u001b[0;36m<module>\u001b[1;34m\u001b[0m\n\u001b[1;32m----> 1\u001b[1;33m \u001b[0mhiHiC\u001b[0m\u001b[1;33m,\u001b[0m\u001b[0mhiHiL\u001b[0m\u001b[1;33m,\u001b[0m\u001b[0mhiHiG\u001b[0m \u001b[1;33m=\u001b[0m \u001b[0mzip\u001b[0m\u001b[1;33m(\u001b[0m\u001b[1;33m*\u001b[0m\u001b[0mhighLeHiGDPCountry\u001b[0m\u001b[1;33m)\u001b[0m\u001b[1;33m\u001b[0m\u001b[1;33m\u001b[0m\u001b[0m\n\u001b[0m\u001b[0;32m      2\u001b[0m \u001b[0mhiLowC\u001b[0m\u001b[1;33m,\u001b[0m\u001b[0mhiLowL\u001b[0m\u001b[1;33m,\u001b[0m\u001b[0mhiLowG\u001b[0m \u001b[1;33m=\u001b[0m \u001b[0mzip\u001b[0m\u001b[1;33m(\u001b[0m\u001b[1;33m*\u001b[0m\u001b[0mhighLeLowGDPCountry\u001b[0m\u001b[1;33m)\u001b[0m\u001b[1;33m\u001b[0m\u001b[1;33m\u001b[0m\u001b[0m\n\u001b[0;32m      3\u001b[0m \u001b[0mlowC\u001b[0m\u001b[1;33m,\u001b[0m\u001b[0mlowL\u001b[0m\u001b[1;33m,\u001b[0m\u001b[0mlowG\u001b[0m \u001b[1;33m=\u001b[0m \u001b[0mzip\u001b[0m\u001b[1;33m(\u001b[0m\u001b[1;33m*\u001b[0m\u001b[0mlowLECountry\u001b[0m\u001b[1;33m)\u001b[0m\u001b[1;33m\u001b[0m\u001b[1;33m\u001b[0m\u001b[0m\n\u001b[0;32m      4\u001b[0m \u001b[1;33m\u001b[0m\u001b[0m\n\u001b[0;32m      5\u001b[0m \u001b[0mplt\u001b[0m\u001b[1;33m.\u001b[0m\u001b[0mscatter\u001b[0m\u001b[1;33m(\u001b[0m\u001b[0mhiHiG\u001b[0m\u001b[1;33m,\u001b[0m\u001b[0mhiHiL\u001b[0m\u001b[1;33m,\u001b[0m \u001b[0mcolor\u001b[0m\u001b[1;33m=\u001b[0m\u001b[1;34m'g'\u001b[0m\u001b[1;33m,\u001b[0m \u001b[0malpha\u001b[0m\u001b[1;33m=\u001b[0m\u001b[1;36m0.5\u001b[0m\u001b[1;33m)\u001b[0m\u001b[1;33m\u001b[0m\u001b[1;33m\u001b[0m\u001b[0m\n",
      "\u001b[1;31mNameError\u001b[0m: name 'highLeHiGDPCountry' is not defined"
     ]
    }
   ],
   "source": [
    "hiHiC,hiHiL,hiHiG = zip(*highLeHiGDPCountry)\n",
    "hiLowC,hiLowL,hiLowG = zip(*highLeLowGDPCountry)\n",
    "lowC,lowL,lowG = zip(*lowLECountry)\n",
    "\n",
    "plt.scatter(hiHiG,hiHiL, color='g', alpha=0.5)\n",
    "plt.scatter(hiLowG,hiLowL, color='b', alpha=0.9)\n",
    "plt.scatter(lowG,lowL, color='r', alpha=0.5)\n",
    "\n",
    "plt.show()"
   ]
  },
  {
   "cell_type": "code",
   "execution_count": 4,
   "metadata": {},
   "outputs": [
    {
     "name": "stdout",
     "output_type": "stream",
     "text": [
      "test\n"
     ]
    }
   ],
   "source": []
  }
 ],
 "metadata": {
  "colab": {
   "collapsed_sections": [],
   "include_colab_link": true,
   "name": "Lab1.ipynb",
   "provenance": []
  },
  "kernelspec": {
   "display_name": "Python 3",
   "language": "python",
   "name": "python3"
  },
  "language_info": {
   "codemirror_mode": {
    "name": "ipython",
    "version": 3
   },
   "file_extension": ".py",
   "mimetype": "text/x-python",
   "name": "python",
   "nbconvert_exporter": "python",
   "pygments_lexer": "ipython3",
   "version": "3.8.3"
  }
 },
 "nbformat": 4,
 "nbformat_minor": 1
}
